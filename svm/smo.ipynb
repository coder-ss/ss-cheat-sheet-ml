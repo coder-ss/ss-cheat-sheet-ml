{
 "cells": [
  {
   "cell_type": "markdown",
   "metadata": {},
   "source": [
    "# SMO\n",
    "\n",
    "SVM那篇手册中推到了对偶问题的二次规划问题，它具有全局最优解，并且有许多最优化算法可用于求解这一问题，但是当训练样本容量很大时，这些算法往往变得非常低效，以致无法使用。所以，人们提出了一些快速算法，这里介绍序列最小最优化（Sequential Minimal Optimization）算法。"
   ]
  }
 ],
 "metadata": {
  "kernelspec": {
   "display_name": "Python 3",
   "language": "python",
   "name": "python3"
  },
  "language_info": {
   "codemirror_mode": {
    "name": "ipython",
    "version": 3
   },
   "file_extension": ".py",
   "mimetype": "text/x-python",
   "name": "python",
   "nbconvert_exporter": "python",
   "pygments_lexer": "ipython3",
   "version": "3.5.1"
  }
 },
 "nbformat": 4,
 "nbformat_minor": 0
}
