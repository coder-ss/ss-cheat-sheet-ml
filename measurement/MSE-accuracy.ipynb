{
 "cells": [
  {
   "cell_type": "markdown",
   "metadata": {},
   "source": [
    "# 均方误差与精度\n",
    "\n",
    "## 均方误差\n",
    "\n",
    "均方误差（Mean Squared Error）是回归任务中最常用的性能度量。\n",
    "\n",
    "对于样本集 $D = \\left\\{ \\left( \\boldsymbol{x}_1, y_1 \\right), \\left( \\boldsymbol{x}_2, y_2 \\right), \\ldots, \\left(  \\boldsymbol{x}_m, y_m \\right) \\right\\}$，均方误差定义为：\n",
    "\n",
    "$$ \\text{E} \\left( f;\\ D \\right) = \\frac{1}{m} \\sum_{i=1}^{m} \\left( f(\\boldsymbol{x}_i) - y_i \\right)^2 $$\n",
    "\n",
    "其中，\n",
    "\n",
    "- $\\boldsymbol{x}_i$ 是第 $i$ 个样本的特征\n",
    "- $y_i$ 是第 $i$ 个样本的标记\n",
    "- $f(\\cdot)$ 为我们训练得到的学习器\n",
    "\n",
    "\n",
    "更一般地，对于数据分布 $\\mathcal{D}$ 和概率密度函数 $p(\\cdot)$，均方误差可描述为\n",
    "\n",
    "$$ \\text{E} \\left( f;\\ D \\right) = \\int_{\\boldsymbol{x} \\sim D} \\left( f(\\boldsymbol{x}) - y \\right) p(\\boldsymbol{x}) \\text{d}\\boldsymbol{x} $$\n"
   ]
  },
  {
   "cell_type": "markdown",
   "metadata": {},
   "source": [
    "## 精度\n",
    "\n",
    "精度是分类任务中常用的性能度量，它是分类正确的样本数占样本总数的比例。\n",
    "\n",
    "对于样本集 $D = \\left\\{ \\left( \\boldsymbol{x}_1, y_1 \\right), \\left( \\boldsymbol{x}_2, y_2 \\right), \\ldots, \\left(  \\boldsymbol{x}_m, y_m \\right) \\right\\}$，精度定义为：\n",
    "\n",
    "$$ \\text{acc} \\left( f;\\ D \\right) = \\frac{1}{m} \\sum_{i=1}^{m} \\mathbb{1} \\left( f(\\boldsymbol{x}_i) = y_i \\right) $$\n",
    "\n",
    "其中，\n",
    "\n",
    "- $\\boldsymbol{x}_i$ 是第 $i$ 个样本的特征\n",
    "- $y_i$ 是第 $i$ 个样本的标签\n",
    "- $f(\\cdot)$ 为我们训练得到的学习器\n",
    "- $\\mathbb{1} (\\cdot)$ 是指示函数\n",
    "\n",
    "\n",
    "更一般地，对于数据分布 $\\mathcal{D}$ 和概率密度函数 $p(\\cdot)$，精度可描述为\n",
    "\n",
    "$$ \\text{acc} \\left( f;\\ D \\right) = \\int_{\\boldsymbol{x} \\sim D} \\mathbb{1} \\left( f(\\boldsymbol{x}) = y \\right) p(\\boldsymbol{x}) \\text{d}\\boldsymbol{x} $$"
   ]
  }
 ],
 "metadata": {
  "kernelspec": {
   "display_name": "Python 3",
   "language": "python",
   "name": "python3"
  },
  "language_info": {
   "codemirror_mode": {
    "name": "ipython",
    "version": 3
   },
   "file_extension": ".py",
   "mimetype": "text/x-python",
   "name": "python",
   "nbconvert_exporter": "python",
   "pygments_lexer": "ipython3",
   "version": "3.5.1"
  }
 },
 "nbformat": 4,
 "nbformat_minor": 0
}
