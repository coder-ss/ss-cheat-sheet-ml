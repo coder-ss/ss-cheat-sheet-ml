{
 "cells": [
  {
   "cell_type": "markdown",
   "metadata": {},
   "source": [
    "# 决策树\n",
    "\n",
    "决策树（decision tree）是一种基本的分类与回归算法，这里主要讨论用于分类的决策树。\n",
    "\n",
    "优点：\n",
    "\n",
    "- 模型具有可读性\n",
    "- 分类速度快\n",
    "\n",
    "决策树学习通常包括3个步骤：\n",
    "\n",
    "1. 特征选择\n",
    "2. 决策树的生成\n",
    "3. 决策树的修剪"
   ]
  },
  {
   "cell_type": "markdown",
   "metadata": {},
   "source": [
    "## 定义\n",
    "\n",
    "> 这部分内容来自于李航老师的《统计学习方法》。\n",
    "\n",
    "分类决策树是一种描述对实例进行分类的树形结构。决策树由结点（node）和有向边（directed edge）组成。结点有两种类型：内部结点（internel node）和叶结点（leaf node）。内部结点表示一个特征或属性，叶结点表示一个类。\n",
    "\n",
    "用决策树分类，从根结点开始，对实例的某一个特征进行测试，根据测试结果，将实例分配到其子结点；这时，每一个子结点对应着该特征的一个取值。如此递归地对实例进行测试并分配，直至达到叶结点。最后将实例分到叶节点的类中。\n",
    "\n",
    "下图是一个决策数的示意图。图中圆和方框分别表示内部结点和叶节点。\n",
    "\n",
    "<img src=\"./decision-tree.jpg\" width=\"400\" />"
   ]
  },
  {
   "cell_type": "markdown",
   "metadata": {},
   "source": [
    "## 学习过程\n",
    "\n",
    "决策树学习的算法通常是一个递归地选择最优特征，并根据该特征对训练数据进行分割，使得对各个子数据集有一个最好的分类的过程。这一过程对应着特征空间的划分，也对应着决策树的构建。开始，构建根结点，将所有训练数据都放在根结点。选择一个最优特征，按照这一特征将训练数据集分割成子集，使得各个子集有一个在当前条件下最好的分类。如果这些子集已经能够被基本正确分类，那么构建叶结点，并将这些子集分到所对应的叶结点中去；如果还有子集不能被正确分类，那么就对这些子集选择新的最优特征，继续对其进行分割，构建相应的结点。如此递归地进行下去，直至所有训练数据子集被基本正确分类，或者没有合适的特征为止。最后每个子集都被分到叶结点上，即都有了明确的类。这就生成了一颗决策树。\n",
    "\n",
    "周志华老师《机器学习》中决策树学习基本算法的伪代码挺好的，摘录如下（上面描述中的“特征”等价于下图中的“属性”）：\n",
    "\n",
    "<img src=\"./decision-tree-algrithom.jpg\" width=\"600\">\n",
    "\n",
    "当然，这样得到的决策树很有可能过拟合，还需要进行“剪枝”。"
   ]
  },
  {
   "cell_type": "markdown",
   "metadata": {},
   "source": [
    "## 特征选择\n",
    "\n",
    "\n",
    "特征选择是构建决策时的关键步骤。一般而言，随着划分过程不断进行，我们希望决策树的分支结点所包含的样本尽可能属于同一类别，即结点的“纯度”（purity）越来越高。\n",
    "\n",
    "### 信息增益与ID3\n",
    "\n"
   ]
  },
  {
   "cell_type": "markdown",
   "metadata": {},
   "source": [
    "### 增益率与C4.5"
   ]
  },
  {
   "cell_type": "markdown",
   "metadata": {},
   "source": [
    "### 基尼指数与CART"
   ]
  },
  {
   "cell_type": "markdown",
   "metadata": {},
   "source": [
    "## 剪枝"
   ]
  },
  {
   "cell_type": "markdown",
   "metadata": {},
   "source": [
    "## 回归问题"
   ]
  },
  {
   "cell_type": "code",
   "execution_count": null,
   "metadata": {
    "collapsed": true
   },
   "outputs": [],
   "source": []
  }
 ],
 "metadata": {
  "kernelspec": {
   "display_name": "Python 3",
   "language": "python",
   "name": "python3"
  },
  "language_info": {
   "codemirror_mode": {
    "name": "ipython",
    "version": 3
   },
   "file_extension": ".py",
   "mimetype": "text/x-python",
   "name": "python",
   "nbconvert_exporter": "python",
   "pygments_lexer": "ipython3",
   "version": "3.5.1"
  }
 },
 "nbformat": 4,
 "nbformat_minor": 0
}
