{
 "cells": [
  {
   "cell_type": "markdown",
   "metadata": {},
   "source": [
    "# 层次聚类\n",
    "\n",
    "层次聚类（hierarchical clustering）有“自底向上”和“自顶向下”的聚类策略。\n",
    "\n",
    "AGNES是一种采用自底向上聚合策略的层次聚类算法。它先将数据集中的每个样本看作一个初始聚类簇，然后在算法运行的每一步中找出距离最近的两个聚类簇进行合并，该过程不断重复，直至达到预设的聚类簇个数。\n",
    "\n",
    "聚类簇之间距离的计算：\n",
    "最小距离\n",
    "\n",
    "$$d_{min}(C_i,C_j) = \\min_{\\boldsymbol{x} \\in C_i, \\boldsymbol{z} \\in C_j} dist(\\boldsymbol{x}, \\boldsymbol{z})$$\n",
    "\n",
    "最大距离\n",
    "\n",
    "$$d_{max}(C_i,C_j) = \\max_{\\boldsymbol{x} \\in C_i, \\boldsymbol{z} \\in C_j} dist(\\boldsymbol{x}, \\boldsymbol{z})$$\n",
    "\n",
    "平均距离\n",
    "\n",
    "$$d_{avg}(C_i,C_j) = \\frac{1}{|C_i||C_j|} \\sum_{\\boldsymbol{x} \\in C_i} \\sum_{\\boldsymbol{z} \\in C_j} dist(\\boldsymbol{x}, \\boldsymbol{z})$$\n",
    "\n",
    "当聚类距离由最小距离、最大距离、平均距离计算时，AGNES算法被相应的称为“单链接”（single-linkage）、“全链接”（complete-linkage）或“均链接”（average-linkage）算法。\n",
    "\n",
    "算法过程：\n",
    "\n",
    "<img src=\"./hierarchical-clustering.png\" width=\"320\" />\n",
    "\n",
    "\n",
    "\n",
    "k-means与层次聚类\n",
    "\n",
    "- k-means这种扁平聚类产生出一个聚类结果（都是独立的）；层次聚类能根据你的聚类程度不同，有不同的结果\n",
    "- k-means需要指定聚类个数k，层次聚类不用\n",
    "- 通常情况下，k-means比层次聚类要快一些\n",
    "- 实际中，k-means用的比较多，可以用k-median\n"
   ]
  }
 ],
 "metadata": {
  "kernelspec": {
   "display_name": "Python 3",
   "language": "python",
   "name": "python3"
  },
  "language_info": {
   "codemirror_mode": {
    "name": "ipython",
    "version": 3
   },
   "file_extension": ".py",
   "mimetype": "text/x-python",
   "name": "python",
   "nbconvert_exporter": "python",
   "pygments_lexer": "ipython3",
   "version": "3.5.1"
  }
 },
 "nbformat": 4,
 "nbformat_minor": 0
}
