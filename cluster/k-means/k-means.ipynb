{
 "cells": [
  {
   "cell_type": "markdown",
   "metadata": {},
   "source": [
    "# k均值\n",
    "\n",
    "## 聚类问题\n",
    "\n",
    "无监督学习（unsupervised learning）中，训练样本的标记是未知的，我们可以通过对无标记训练样本的学习来揭示数据的内在性质及规律，为进一步的数据分析提供基础。常见的无监督学习有聚类（clustering）、密度估计（density estimation）和异常检测（anomaly detection）等。其中，聚类是研究最多、应用最广泛的无监督学习。\n",
    "\n",
    "聚类试图将数据集中的样本划分为若干个通常是不相交的子集，每个子集称为一个“簇”（cluster）。\n",
    "\n",
    "假定样本集 $D=\\{ \\boldsymbol{x}_1, \\boldsymbol{x}_2, \\ldots, \\boldsymbol{x}_m \\}$ 包含m个无标记样本，每个样本 $\\boldsymbol{x}_i = (x_{i1}, x_{i2}, \\ldots, x_{in}) $ 是一个n维特征向量，则聚类算法将样本集D划分为k个互不相交的簇 $\\{C_l \\mid l=1,2,\\ldots,k\\}$，其中 $C_{l} \\cap_{l \\neq l^{\\prime}} C_{l^{\\prime}} = \\emptyset$ 且 $D=\\cup_{l=1}^{k} C_l$。相应地，我们用 $\\lambda_j \\in {1, 2, \\ldots, k}$ 表示样本 $\\boldsymbol{x}_j$ 的簇标记（cluster label），即 $\\boldsymbol{x}_j \\in C_{\\lambda_j}$。于是，聚类的结果可用包含m个元素的簇标记向量 $\\boldsymbol{\\lambda} = (\\lambda_1, \\lambda_2, \\ldots, \\lambda_m)$ 表示。\n",
    "\n"
   ]
  },
  {
   "cell_type": "markdown",
   "metadata": {},
   "source": [
    "## k均值算法\n",
    "\n",
    "给定样本集 $D=\\{\\boldsymbol{x}_1, \\boldsymbol{x}_2, \\ldots, \\boldsymbol{x}_m\\}$，k均值（k-means）算法针对聚类所得簇划分 $C = \\{ C_1, C_2, \\ldots, C_k \\}$ 最小化平方误差：\n",
    "\n",
    "$$ E = \\sum_{i=1}^{k} \\sum_{\\boldsymbol{x} \\in C_i} \\left\\| \\boldsymbol{x} - \\boldsymbol{\\mu}_i \\right\\|_2^2 $$\n",
    "\n",
    "其中 $\\boldsymbol{\\mu}_i = \\frac{1}{\\mid C_i \\mid } \\sum_{\\boldsymbol{x} \\in C_i} \\boldsymbol{x} $ 是簇 $C_i$ 的均值向量。直观来看，上式在一定程度上刻画了簇内样本围绕簇均值向量的紧密程度，E值越小则簇内样本相似度越高。\n",
    "\n",
    "最小化上式并不容易，找到它的最优解需考察样本集D所有可能的簇划分，这是一个NP难问题。因此，k均值算法采用了贪心策略，通过迭代优化来近似求解上式。算法的流程如下图所示，其中第1行对均值向量进行初始化，在第4-8行与第9-16行依次对当前簇划分及均值向量迭代更新，若迭代更新后聚类结果保持不变，则在第18行将当前簇划分结果返回。\n",
    "\n",
    "<img src=\"./k-means.jpg\" width=\"720\" />"
   ]
  },
  {
   "cell_type": "markdown",
   "metadata": {},
   "source": [
    "## Demo\n",
    "\n",
    "来自于周志华老师《机器学习》的西瓜数据集如下：\n"
   ]
  },
  {
   "cell_type": "code",
   "execution_count": 77,
   "metadata": {
    "collapsed": false
   },
   "outputs": [
    {
     "data": {
      "text/html": [
       "<div>\n",
       "<style>\n",
       "    .dataframe thead tr:only-child th {\n",
       "        text-align: right;\n",
       "    }\n",
       "\n",
       "    .dataframe thead th {\n",
       "        text-align: left;\n",
       "    }\n",
       "\n",
       "    .dataframe tbody tr th {\n",
       "        vertical-align: top;\n",
       "    }\n",
       "</style>\n",
       "<table border=\"1\" class=\"dataframe\">\n",
       "  <thead>\n",
       "    <tr style=\"text-align: right;\">\n",
       "      <th></th>\n",
       "      <th>密度</th>\n",
       "      <th>含糖率</th>\n",
       "    </tr>\n",
       "  </thead>\n",
       "  <tbody>\n",
       "    <tr>\n",
       "      <th>0</th>\n",
       "      <td>0.697</td>\n",
       "      <td>0.460</td>\n",
       "    </tr>\n",
       "    <tr>\n",
       "      <th>1</th>\n",
       "      <td>0.774</td>\n",
       "      <td>0.376</td>\n",
       "    </tr>\n",
       "    <tr>\n",
       "      <th>2</th>\n",
       "      <td>0.634</td>\n",
       "      <td>0.264</td>\n",
       "    </tr>\n",
       "    <tr>\n",
       "      <th>3</th>\n",
       "      <td>0.608</td>\n",
       "      <td>0.318</td>\n",
       "    </tr>\n",
       "    <tr>\n",
       "      <th>4</th>\n",
       "      <td>0.556</td>\n",
       "      <td>0.215</td>\n",
       "    </tr>\n",
       "    <tr>\n",
       "      <th>5</th>\n",
       "      <td>0.403</td>\n",
       "      <td>0.237</td>\n",
       "    </tr>\n",
       "    <tr>\n",
       "      <th>6</th>\n",
       "      <td>0.481</td>\n",
       "      <td>0.149</td>\n",
       "    </tr>\n",
       "    <tr>\n",
       "      <th>7</th>\n",
       "      <td>0.437</td>\n",
       "      <td>0.211</td>\n",
       "    </tr>\n",
       "    <tr>\n",
       "      <th>8</th>\n",
       "      <td>0.666</td>\n",
       "      <td>0.091</td>\n",
       "    </tr>\n",
       "    <tr>\n",
       "      <th>9</th>\n",
       "      <td>0.243</td>\n",
       "      <td>0.267</td>\n",
       "    </tr>\n",
       "    <tr>\n",
       "      <th>10</th>\n",
       "      <td>0.245</td>\n",
       "      <td>0.057</td>\n",
       "    </tr>\n",
       "    <tr>\n",
       "      <th>11</th>\n",
       "      <td>0.343</td>\n",
       "      <td>0.099</td>\n",
       "    </tr>\n",
       "    <tr>\n",
       "      <th>12</th>\n",
       "      <td>0.639</td>\n",
       "      <td>0.161</td>\n",
       "    </tr>\n",
       "    <tr>\n",
       "      <th>13</th>\n",
       "      <td>0.657</td>\n",
       "      <td>0.198</td>\n",
       "    </tr>\n",
       "    <tr>\n",
       "      <th>14</th>\n",
       "      <td>0.360</td>\n",
       "      <td>0.370</td>\n",
       "    </tr>\n",
       "    <tr>\n",
       "      <th>15</th>\n",
       "      <td>0.593</td>\n",
       "      <td>0.042</td>\n",
       "    </tr>\n",
       "    <tr>\n",
       "      <th>16</th>\n",
       "      <td>0.719</td>\n",
       "      <td>0.103</td>\n",
       "    </tr>\n",
       "    <tr>\n",
       "      <th>17</th>\n",
       "      <td>0.359</td>\n",
       "      <td>0.188</td>\n",
       "    </tr>\n",
       "    <tr>\n",
       "      <th>18</th>\n",
       "      <td>0.339</td>\n",
       "      <td>0.241</td>\n",
       "    </tr>\n",
       "    <tr>\n",
       "      <th>19</th>\n",
       "      <td>0.282</td>\n",
       "      <td>0.257</td>\n",
       "    </tr>\n",
       "    <tr>\n",
       "      <th>20</th>\n",
       "      <td>0.748</td>\n",
       "      <td>0.232</td>\n",
       "    </tr>\n",
       "    <tr>\n",
       "      <th>21</th>\n",
       "      <td>0.714</td>\n",
       "      <td>0.346</td>\n",
       "    </tr>\n",
       "    <tr>\n",
       "      <th>22</th>\n",
       "      <td>0.483</td>\n",
       "      <td>0.312</td>\n",
       "    </tr>\n",
       "    <tr>\n",
       "      <th>23</th>\n",
       "      <td>0.478</td>\n",
       "      <td>0.437</td>\n",
       "    </tr>\n",
       "    <tr>\n",
       "      <th>24</th>\n",
       "      <td>0.525</td>\n",
       "      <td>0.369</td>\n",
       "    </tr>\n",
       "    <tr>\n",
       "      <th>25</th>\n",
       "      <td>0.751</td>\n",
       "      <td>0.489</td>\n",
       "    </tr>\n",
       "    <tr>\n",
       "      <th>26</th>\n",
       "      <td>0.532</td>\n",
       "      <td>0.472</td>\n",
       "    </tr>\n",
       "    <tr>\n",
       "      <th>27</th>\n",
       "      <td>0.473</td>\n",
       "      <td>0.376</td>\n",
       "    </tr>\n",
       "    <tr>\n",
       "      <th>28</th>\n",
       "      <td>0.725</td>\n",
       "      <td>0.445</td>\n",
       "    </tr>\n",
       "    <tr>\n",
       "      <th>29</th>\n",
       "      <td>0.446</td>\n",
       "      <td>0.459</td>\n",
       "    </tr>\n",
       "  </tbody>\n",
       "</table>\n",
       "</div>"
      ],
      "text/plain": [
       "       密度    含糖率\n",
       "0   0.697  0.460\n",
       "1   0.774  0.376\n",
       "2   0.634  0.264\n",
       "3   0.608  0.318\n",
       "4   0.556  0.215\n",
       "5   0.403  0.237\n",
       "6   0.481  0.149\n",
       "7   0.437  0.211\n",
       "8   0.666  0.091\n",
       "9   0.243  0.267\n",
       "10  0.245  0.057\n",
       "11  0.343  0.099\n",
       "12  0.639  0.161\n",
       "13  0.657  0.198\n",
       "14  0.360  0.370\n",
       "15  0.593  0.042\n",
       "16  0.719  0.103\n",
       "17  0.359  0.188\n",
       "18  0.339  0.241\n",
       "19  0.282  0.257\n",
       "20  0.748  0.232\n",
       "21  0.714  0.346\n",
       "22  0.483  0.312\n",
       "23  0.478  0.437\n",
       "24  0.525  0.369\n",
       "25  0.751  0.489\n",
       "26  0.532  0.472\n",
       "27  0.473  0.376\n",
       "28  0.725  0.445\n",
       "29  0.446  0.459"
      ]
     },
     "execution_count": 77,
     "metadata": {},
     "output_type": "execute_result"
    }
   ],
   "source": [
    "import pandas as pd\n",
    "import numpy as np\n",
    "from collections import OrderedDict\n",
    "\n",
    "data_dict = OrderedDict( (\n",
    "        ('密度', [\n",
    "                0.697, 0.774, 0.634, 0.608, 0.556, 0.403, 0.481, 0.437, 0.666, 0.243,\n",
    "                0.245, 0.343, 0.639, 0.657, 0.360, 0.593, 0.719, 0.359, 0.339, 0.282,\n",
    "                0.748, 0.714, 0.483, 0.478, 0.525, 0.751, 0.532, 0.473, 0.725, 0.446\n",
    "            ]),\n",
    "        ('含糖率', [\n",
    "                0.460, 0.376, 0.264, 0.318, 0.215, 0.237, 0.149, 0.211, 0.091, 0.267,\n",
    "                0.057, 0.099, 0.161, 0.198, 0.370, 0.042, 0.103, 0.188, 0.241, 0.257,\n",
    "                0.232, 0.346, 0.312, 0.437, 0.369, 0.489, 0.472, 0.376, 0.445, 0.459\n",
    "            ]),\n",
    "    ) )\n",
    "\n",
    "data = pd.DataFrame.from_dict(data_dict)\n",
    "data"
   ]
  },
  {
   "cell_type": "markdown",
   "metadata": {},
   "source": [
    "假定聚类簇数k=3，算法开始时随机选取3个样本5、11、26作为初始均值向量，即 $\\boldsymbol{\\mu}_1 = \\boldsymbol{x}_5$、$\\boldsymbol{\\mu}_2 = \\boldsymbol{x}_{11}$、$\\boldsymbol{\\mu}_3 = \\boldsymbol{x}_{26}$。\n",
    "\n",
    "样本 $\\boldsymbol{x}_0$ 与 $\\boldsymbol{\\mu}_1$、$\\boldsymbol{\\mu}_2$、$\\boldsymbol{\\mu}_3$ 的距离分别计算如下："
   ]
  },
  {
   "cell_type": "code",
   "execution_count": 26,
   "metadata": {
    "collapsed": false
   },
   "outputs": [
    {
     "name": "stdout",
     "output_type": "stream",
     "text": [
      "x0与μ1的距离：0.369\n",
      "x0与μ2的距离：0.506\n",
      "x0与μ3的距离：0.165\n"
     ]
    }
   ],
   "source": [
    "def distance(a, b):\n",
    "    \"\"\" 计算两个样本点的距离\n",
    "    \"\"\"\n",
    "    return np.linalg.norm(a - b)\n",
    "    \n",
    "print('x0与μ1的距离：%.3f' % distance(data.iloc[5, :], data.iloc[0, :]))\n",
    "print('x0与μ2的距离：%.3f' % distance(data.iloc[11, :], data.iloc[0, :]))\n",
    "print('x0与μ3的距离：%.3f' % distance(data.iloc[26, :], data.iloc[0, :]))"
   ]
  },
  {
   "cell_type": "markdown",
   "metadata": {},
   "source": [
    "同样可以计算其他29个样本与三个均值向量的距离，然后将每个样本划分给离它最近的均值向量："
   ]
  },
  {
   "cell_type": "code",
   "execution_count": 140,
   "metadata": {
    "collapsed": false
   },
   "outputs": [
    {
     "data": {
      "text/plain": [
       "{0: [4, 5, 6, 7, 8, 9, 12, 13, 14, 16, 17, 18, 19, 22],\n",
       " 1: [10, 11, 15],\n",
       " 2: [0, 1, 2, 3, 20, 21, 23, 24, 25, 26, 27, 28, 29]}"
      ]
     },
     "execution_count": 140,
     "metadata": {},
     "output_type": "execute_result"
    }
   ],
   "source": [
    "def partition(mus, data):\n",
    "    \"\"\" 对所有样本点进行划分\n",
    "    \"\"\"\n",
    "    c = {}\n",
    "    for k in mus:\n",
    "        c[k] = []\n",
    "    \n",
    "    for index, row in data.iterrows():\n",
    "        d = np.infty\n",
    "        cur_k = -1\n",
    "        for k in mus:\n",
    "            d2 = distance(row, mus[k])\n",
    "            if d2 < d:\n",
    "                d = d2\n",
    "                cur_k = k\n",
    "        c[cur_k].append(index)\n",
    "    return c\n",
    "        \n",
    "mus = {0: data.iloc[5, :], 1: data.iloc[11, :], 2: data.iloc[26, :]}\n",
    "clusters = partition(mus, data)\n",
    "clusters"
   ]
  },
  {
   "cell_type": "markdown",
   "metadata": {},
   "source": [
    "绘制样本点，直观看看分类情况："
   ]
  },
  {
   "cell_type": "code",
   "execution_count": 128,
   "metadata": {
    "collapsed": false
   },
   "outputs": [
    {
     "data": {
      "image/png": "[encoded data removed]",
      "text/plain": [
       "<matplotlib.figure.Figure at 0x105c0eb38>"
      ]
     },
     "metadata": {},
     "output_type": "display_data"
    }
   ],
   "source": [
    "import matplotlib.pyplot as plt\n",
    "%matplotlib inline\n",
    "\n",
    "markers = ['o', '*', 'v']\n",
    "colors = ['red', 'blue', 'green']\n",
    "def plot_cluster(clusters, mus, t):\n",
    "    \"\"\" 绘制划分情况\n",
    "    \"\"\"\n",
    "    for i in clusters:\n",
    "        for j in clusters[i]:\n",
    "            plt.scatter(data.iloc[j, 0], data.iloc[j, 1], marker=markers[i], c=colors[i])\n",
    "    for i in mus:\n",
    "        plt.scatter(mus[i][0], mus[i][1], c='yellow')\n",
    "    plt.title(t)\n",
    "    plt.show()\n",
    "\n",
    "plot_cluster(clusters, mus, '样本5、11、26作为初始均值向量第1轮迭代后')"
   ]
  },
  {
   "cell_type": "markdown",
   "metadata": {},
   "source": [
    "通过上面得到的分组结果，可以计算出新的均值向量："
   ]
  },
  {
   "cell_type": "code",
   "execution_count": 35,
   "metadata": {
    "collapsed": false
   },
   "outputs": [
    {
     "data": {
      "text/plain": [
       "{1: 密度     0.473143\n",
       " 含糖率    0.214286\n",
       " dtype: float64, 2: 密度     0.393667\n",
       " 含糖率    0.066000\n",
       " dtype: float64, 3: 密度     0.623462\n",
       " 含糖率    0.387923\n",
       " dtype: float64}"
      ]
     },
     "execution_count": 35,
     "metadata": {},
     "output_type": "execute_result"
    }
   ],
   "source": [
    "def new_mus(clusters):\n",
    "    \"\"\" 根据划分得到的类别，计算新的均值向量\n",
    "    \"\"\"\n",
    "    _mus = {}\n",
    "    for k in clusters:\n",
    "        _mus[k] = data.iloc[clusters[k], :].mean()\n",
    "    return _mus\n",
    "        \n",
    "mus = new_mus(clusters)\n",
    "mus"
   ]
  },
  {
   "cell_type": "markdown",
   "metadata": {},
   "source": [
    "不断重复上述过程，直至结果收敛，就得到了聚类的结果。完整的代码如下："
   ]
  },
  {
   "cell_type": "code",
   "execution_count": 141,
   "metadata": {
    "collapsed": false
   },
   "outputs": [
    {
     "data": {
      "image/png": "[encoded data removed]",
      "text/plain": [
       "<matplotlib.figure.Figure at 0x10a1e1f98>"
      ]
     },
     "metadata": {},
     "output_type": "display_data"
    },
    {
     "data": {
      "image/png": "[encoded data removed]",
      "text/plain": [
       "<matplotlib.figure.Figure at 0x105aca4a8>"
      ]
     },
     "metadata": {},
     "output_type": "display_data"
    },
    {
     "data": {
      "image/png": "[encoded data removed]",
      "text/plain": [
       "<matplotlib.figure.Figure at 0x10a2c7b38>"
      ]
     },
     "metadata": {},
     "output_type": "display_data"
    },
    {
     "data": {
      "image/png": "[encoded data removed]",
      "text/plain": [
       "<matplotlib.figure.Figure at 0x10a397b70>"
      ]
     },
     "metadata": {},
     "output_type": "display_data"
    },
    {
     "data": {
      "text/plain": [
       "{0: [0, 1, 3, 21, 22, 23, 24, 25, 26, 27, 28, 29],\n",
       " 1: [5, 6, 7, 9, 10, 11, 14, 17, 18, 19],\n",
       " 2: [2, 4, 8, 12, 13, 15, 16, 20]}"
      ]
     },
     "execution_count": 141,
     "metadata": {},
     "output_type": "execute_result"
    }
   ],
   "source": [
    "def k_means(mus, data, t):\n",
    "    \"\"\" 简单的k均值聚类，写死聚类次数\n",
    "    \"\"\"\n",
    "    for i in range(10):\n",
    "        clusters = partition(mus, data)\n",
    "        mus = new_mus(clusters)\n",
    "        if i == 0 or i == 1 or i == 4 or i == 9:\n",
    "            plot_cluster(clusters, mus, '%s第%s次迭代后' % (t, i+1))\n",
    "    return clusters\n",
    "    \n",
    "k = 3 # 聚成3类\n",
    "\n",
    "# 初始均值向量\n",
    "mus = {}\n",
    "init_ks = np.random.choice(len(data), k)\n",
    "for i in range(3):\n",
    "    mus[i] = data.iloc[init_ks[i], :]\n",
    "    \n",
    "# k均值聚类\n",
    "k_means(mus, data, '样本%s作为初始均值向量' % (init_ks))"
   ]
  }
 ],
 "metadata": {
  "kernelspec": {
   "display_name": "Python 3",
   "language": "python",
   "name": "python3"
  },
  "language_info": {
   "codemirror_mode": {
    "name": "ipython",
    "version": 3
   },
   "file_extension": ".py",
   "mimetype": "text/x-python",
   "name": "python",
   "nbconvert_exporter": "python",
   "pygments_lexer": "ipython3",
   "version": "3.5.1"
  }
 },
 "nbformat": 4,
 "nbformat_minor": 0
}
