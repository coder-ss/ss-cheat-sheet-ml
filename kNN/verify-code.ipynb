{
 "cells": [
  {
   "cell_type": "markdown",
   "metadata": {},
   "source": [
    "# 基于kNN的验证码识别\n",
    "\n",
    "这里的验证码比较简单，只有4位字母或数字。利用kNN就可以得到很好的识别效果。\n",
    "\n",
    "第一步，需要对图片进行分割。"
   ]
  },
  {
   "cell_type": "code",
   "execution_count": 60,
   "metadata": {
    "collapsed": true
   },
   "outputs": [],
   "source": [
    "from PIL import Image\n",
    "import sys\n",
    "import os\n",
    "import matplotlib.pyplot as plt\n",
    "#import matplotlib.patches as mpatches\n",
    "import numpy as np\n",
    "from skimage.io import imread,imsave\n",
    "from skimage.filters import threshold_otsu, inverse\n",
    "from skimage.filters import roberts, sobel, scharr, prewitt\n",
    "from skimage.morphology import disk,square\n",
    "from skimage.morphology import binary_erosion,binary_opening,binary_closing\n",
    "from skimage.filters import rank\n",
    "from skimage.filters import median\n",
    "from skimage.segmentation import clear_border\n",
    "from skimage.measure import label,regionprops\n",
    "from skimage.transform import resize\n",
    "from skimage import img_as_int\n",
    "\n",
    "%matplotlib inline\n",
    "\n",
    "def seg(image):\n",
    "    pre_image = __preproc(image)\n",
    "    sub_images = __seg_by_region(pre_image)\n",
    "\n",
    "    return sub_images\n",
    "\n",
    "\n",
    "def __preproc(image):\n",
    "    \"\"\" 图片预处理\n",
    "    \"\"\"\n",
    "    # 二值化\n",
    "    thresh = threshold_otsu(image)\n",
    "    binary = image > thresh\n",
    "    \n",
    "    # 中值滤波\n",
    "    med = median(binary, disk(1))\n",
    "\n",
    "    return med\n",
    "\n",
    "def __seg_by_region(image):\n",
    "    \"\"\" 图片分割\n",
    "    用skimage中regionprops函数直接分出来的效果就不错，所以就不用自己想办法分了\n",
    "    \"\"\"\n",
    "    lab_img = label(image, connectivity=2, background=255)\n",
    "\n",
    "    rs = []\n",
    "    for region in regionprops(lab_img):\n",
    "        # skip small images\n",
    "        if region.area < 20:\n",
    "            continue\n",
    "\n",
    "        if region.area > 80:\n",
    "            mid = int(region.image.shape[1] / 2) + 1\n",
    "            rs.append(1 - resize(region.image[:, 0:mid], (24, 16), mode='constant'))\n",
    "            rs.append(1 - resize(region.image[:, mid:], (24, 16), mode='constant'))\n",
    "        else:\n",
    "            rs.append(1 - resize(region.image, (24, 16), mode='constant'))\n",
    "\n",
    "    return rs"
   ]
  },
  {
   "cell_type": "markdown",
   "metadata": {},
   "source": [
    "以下是一个示例："
   ]
  },
  {
   "cell_type": "code",
   "execution_count": 61,
   "metadata": {
    "collapsed": false
   },
   "outputs": [
    {
     "data": {
      "image/png": "[encoded data removed]",
      "text/plain": [
       "<matplotlib.figure.Figure at 0xb598d30>"
      ]
     },
     "metadata": {},
     "output_type": "display_data"
    }
   ],
   "source": [
    "# 读入图片，抛弃RGB\n",
    "img = imread('input/test/20160819153048.gif', as_grey=True)\n",
    "\n",
    "# 显示原图\n",
    "fig, axs = plt.subplots(1, 5)\n",
    "axs[0].imshow(img, cmap=plt.cm.gray)\n",
    "axs[0].axis('off')\n",
    "\n",
    "# 图片分割\n",
    "sub_imgs = seg(img)\n",
    "\n",
    "# 显示分割后的图片\n",
    "i = 1\n",
    "for si in sub_imgs:\n",
    "#     print(si)\n",
    "    axs[i].imshow(si, cmap=plt.cm.gray)\n",
    "    axs[i].axis('off')\n",
    "    i += 1\n",
    "\n",
    "plt.show()"
   ]
  },
  {
   "cell_type": "markdown",
   "metadata": {},
   "source": [
    "按照上面方式分割一些图片，然后保存每一个单独的字母或数字，并对每个字母、数字进行人工标记。这份工作就不展示了，标记好的数据在./input/train/路径中。\n",
    "\n",
    "对于新的图片，我们先对它按照上述方法进行分割，然后每一个数字、字母与样本去计算距离。\n",
    "\n",
    "首先，读入样本数据。"
   ]
  },
  {
   "cell_type": "code",
   "execution_count": 51,
   "metadata": {
    "collapsed": false
   },
   "outputs": [],
   "source": [
    "def read_simple():\n",
    "    \"\"\" 读入已经人工标记好的样本数据\n",
    "    \"\"\"\n",
    "    _p = './input/train'\n",
    "\n",
    "    train_data = {}\n",
    "    labels = {}\n",
    "\n",
    "    for _sub_p in os.listdir(_p):\n",
    "        if (os.path.isdir('%s/%s' % (_p, _sub_p))):\n",
    "            i = 0\n",
    "            for _f in os.listdir('%s/%s' % (_p, _sub_p)):\n",
    "                if _f[-3:] == 'png' and i < 40:\n",
    "                    image = imread('%s/%s/%s' % (_p, _sub_p, _f), as_grey=True)\n",
    "                    thresh = threshold_otsu(image)\n",
    "                    binary = image > thresh\n",
    "                    train_data['%s_%s' % (_sub_p, _f)] = binary\n",
    "                    labels['%s_%s' % (_sub_p, _f)] = _sub_p\n",
    "                    i += 1\n",
    "\n",
    "    return train_data, labels\n",
    "\n",
    "train_data, labels = read_simple()"
   ]
  },
  {
   "cell_type": "markdown",
   "metadata": {},
   "source": [
    "然后对测试数据进行测试。我人工对比了一下，准确率还是很高的。"
   ]
  },
  {
   "cell_type": "code",
   "execution_count": 66,
   "metadata": {
    "collapsed": false
   },
   "outputs": [
    {
     "name": "stdout",
     "output_type": "stream",
     "text": [
      "20160819153048.gif: f604\n",
      "20160819153849.gif: f6lf\n",
      "20160819153920.gif: 6428\n",
      "20160819153942.gif: jb66\n",
      "20160819153948.gif: d224\n",
      "20160819154041.gif: 2d64\n",
      "20160819154046.gif: t8rr\n",
      "20160819154052.gif: 6b4b\n",
      "20160819154057.gif: 0pd4\n",
      "20160819154103.gif: x80v\n",
      "20160819154115.gif: n6n8\n",
      "20160819154121.gif: hfd2\n",
      "20160819154126.gif: hfxj\n",
      "20160819154132.gif: 2ppt\n",
      "20160819154317.gif: plhd\n",
      "20160819154323.gif: 842z\n",
      "20160819154333.gif: 8t6l\n",
      "20160819154339.gif: v640\n",
      "20160819154345.gif: h4zj\n",
      "20160819154350.gif: t2td\n",
      "20160819154356.gif: 40l2\n",
      "20160819154401.gif: 68fr\n",
      "20160819154408.gif: 066b\n",
      "20160819154413.gif: 4x42\n"
     ]
    }
   ],
   "source": [
    "def distance(image1, image2):\n",
    "    \"\"\" 求两个图片的距离\n",
    "    \"\"\"\n",
    "    diff = image1 - image2\n",
    "    h, w = diff.shape\n",
    "\n",
    "    sum = 0.0\n",
    "    count = 0\n",
    "    for i in range(h):\n",
    "        for j in range(w):\n",
    "            sum += diff[i][j] ** 2\n",
    "            count += 1\n",
    "    sum = sum ** 0.5\n",
    "\n",
    "    return sum/count\n",
    "\n",
    "def reco(image, train_data, lablels):\n",
    "    \"\"\" 验证码识别\n",
    "    \"\"\"\n",
    "    subs = seg(image)\n",
    "\n",
    "    i = 0\n",
    "    rs_code = ''\n",
    "    \n",
    "    # 切分成4小块，分别识别\n",
    "    for sub in subs:\n",
    "        # 有时候划分会多于4个，只识别4个，肯定是错误的，那也没办法了\n",
    "        i += 1\n",
    "        if len(rs_code) > 3:\n",
    "            break\n",
    "        \n",
    "        # 离每一个样本的距离\n",
    "        rs = {}\n",
    "        for key in train_data:\n",
    "            isP = False\n",
    "            d = distance(sub, train_data[key])\n",
    "            rs[key] = d\n",
    "        \n",
    "        # 按距离排序\n",
    "        rs = sorted(rs.items(), key=lambda d: d[1])\n",
    "\n",
    "        # 投票选取比例最高的\n",
    "        class_count = {}\n",
    "        for i in range(10):\n",
    "            voteLabel = lablels[rs[i][0]]\n",
    "            class_count[voteLabel] = class_count.get(voteLabel, 0) + 1\n",
    "        sorted_class_count = sorted(class_count.items(),key=lambda d:d[1],reverse=True)\n",
    "\n",
    "        rs_code = rs_code + sorted_class_count[0][0]\n",
    "    return rs_code\n",
    "\n",
    "def reco_by_filename(fn):\n",
    "    image = imread(fn, as_grey=True)\n",
    "    rs = reco(image, train_data, labels)\n",
    "    return rs\n",
    "\n",
    "\n",
    "_path = './input/test/'\n",
    "for _fn in os.listdir(_path):\n",
    "    if os.path.isdir('%s%s' % (_path, _fn)) or _fn[-3:] != 'gif':\n",
    "        continue\n",
    "    img = imread('%s%s' % (_path, _fn), as_grey=True)\n",
    "    rs = reco(img, train_data, labels)\n",
    "    print('%s: %s' % (_fn, rs))"
   ]
  }
 ],
 "metadata": {
  "kernelspec": {
   "display_name": "Python 3",
   "language": "python",
   "name": "python3"
  },
  "language_info": {
   "codemirror_mode": {
    "name": "ipython",
    "version": 3
   },
   "file_extension": ".py",
   "mimetype": "text/x-python",
   "name": "python",
   "nbconvert_exporter": "python",
   "pygments_lexer": "ipython3",
   "version": "3.6.0"
  }
 },
 "nbformat": 4,
 "nbformat_minor": 2
}
