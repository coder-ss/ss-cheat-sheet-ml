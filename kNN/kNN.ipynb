{
 "cells": [
  {
   "cell_type": "markdown",
   "metadata": {},
   "source": [
    "# k-近邻\n",
    "\n",
    "k近邻（k-Nearest Neighbor，KNN）可以说是最简单的机器学习算法，不需要任何机器学习背景知识就能理解。\n",
    "\n",
    "该方法的思路是：如果一个样本在特征空间中的k个最相似(即特征空间中最邻近)的样本中的大多数属于某一个类别，则该样本也属于这个类别。"
   ]
  },
  {
   "cell_type": "markdown",
   "metadata": {},
   "source": [
    "为了有个更直观认识，我们来看看《机器学习实战》中电影分类的例子。示例中将电影分为爱情片和动作片，每个电影都有自己的打斗和接吻镜头数。现在的问题是给定一个新的电影，需要判断它是爱情片还是动作片。\n",
    "\n",
    "| 电影名称        | 打斗镜头           | 接吻镜头  | 电影类型 |\n",
    "| ------------- |:-------------:| -----:|\n",
    "| California Man | 3 | 104 | 爱情片 |\n",
    "| He's Not Really into Dudes | 2 | 100 | 爱情片 |\n",
    "| Beautiful Woman | 1 | 81 | 爱情片 |\n",
    "| Kevin Longblade | 101 | 10 | 动作片 |\n",
    "| Robo Slayer 3000 | 99 | 5 | 动作片 |\n",
    "| Amped Ⅱ | 98 | 2 | 动作片 |\n",
    "| ? | 18 | 90 | 未知 |\n",
    "\n",
    "kNN的做法是计算未知电影与样本集中其他电影的距离（具体计算方法先不管），选取距离最近的k部电影（这里取k=3）：California Man、He's Not Really into Dudes、Beautiful Woman，根据这3部电影的类型就可以确定未知电影的类型是爱情片。\n",
    "\n",
    "| 电影名称 | 与未知电影的距离 |\n",
    "| ------------- |:-------------:|\n",
    "| California Man | 20.5 |\n",
    "| He's Not Really into Dudes | 18.7 |\n",
    "| Beautiful Woman | 19.2 |\n",
    "| Kevin Longblade | 115.3 |\n",
    "| Robo Slayer 3000 | 117.4 |\n",
    "| Amped Ⅱ | 118.9 |"
   ]
  }
 ],
 "metadata": {
  "kernelspec": {
   "display_name": "Python 3",
   "language": "python",
   "name": "python3"
  },
  "language_info": {
   "codemirror_mode": {
    "name": "ipython",
    "version": 3
   },
   "file_extension": ".py",
   "mimetype": "text/x-python",
   "name": "python",
   "nbconvert_exporter": "python",
   "pygments_lexer": "ipython3",
   "version": "3.6.0"
  }
 },
 "nbformat": 4,
 "nbformat_minor": 2
}
