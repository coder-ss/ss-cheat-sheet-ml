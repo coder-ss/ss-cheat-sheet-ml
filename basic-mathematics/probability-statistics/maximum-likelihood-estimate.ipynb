{
 "cells": [
  {
   "cell_type": "markdown",
   "metadata": {},
   "source": [
    "# 极大似然估计\n",
    "\n",
    "设总体X的分布函数的形式已知，但它的一个或多个参数未知，借助于总体X的一个样本来估计总体未知参数的值的问题成为参数的点估计问题。常用的估计方法有矩估计和极大似然估计（Maximum Likelihood Estimation）。\n"
   ]
  },
  {
   "cell_type": "markdown",
   "metadata": {},
   "source": [
    "## 离散型随机变量\n",
    "\n",
    "若总体X属离散型，其分布律 $P\\{X=x\\}=p(x;\\theta),\\ \\theta \\in \\Theta$ 的形式为已知，θ为待估参数，Θ是θ可能取值的范围。设 $X_1, X_2, \\cdots, X_n$ 是来自X的样本，则 $X_1, X_2, \\cdots, X_n$ 的联合分布律为\n",
    "\n",
    "$$ \\prod_{i=1}^{n}p(x_i;\\ \\theta) $$\n",
    "\n",
    "又设 $x_1, x_2, \\cdots, x_n$ 是相应于样本 $X_1, X_2, \\cdots, X_n$ 的一个样本值。易知样本 $X_1, X_2, \\cdots, X_n$ 取到观察值 $x_1, x_2, \\cdots, x_n$ 的概率，亦即时间 $\\{ X_1=x_1, X_2=x_2, \\cdots, X_n=x_n \\}$ 发生的概率为\n",
    "\n",
    "$$ L(\\theta) = L(x_1, x_2, \\cdots, x_n; \\theta) = \\prod_{i=1}^{n}p(x_i;\\theta),\\ \\theta \\in \\Theta $$\n",
    "\n",
    "这一概率随θ的取值而变化，它是θ的函数，$L(\\theta)$ 称为样本的似然函数（注意，这里 $x_1, x_2, \\cdots, x_n$ 是已知的样本值，它们都是常数）。\n",
    "\n",
    "关于极大似然估计法，我们有以下的直观想法：现在已经取到样本值 $x_1, x_2, \\cdots, x_n$ 了，这表明取到这一样本值的概率 $L(\\theta)$ 比较大。我们当然不会考虑哪些不能使样本 $x_1, x_2, \\cdots, x_n$ 出现的 $\\theta \\in \\Theta$ 作为 $\\theta$ 的估计，再者，如果已知当 $\\theta = \\theta_0 \\in \\Theta$ 时使 $L(\\theta)$ 取很大值，而 $\\Theta$ 中的其他 $\\theta$ 值使 $L(\\theta)$ 取很小值，我们自然认为取 $\\theta_0$ 作为未知参数 $\\theta$ 的估计值，较为合理。\n",
    "\n",
    "由费希尔（R.A. Fisher）引进的极大似然估计法，就是固定样本观察值 $x_1, x_2, \\cdots, x_n$，在 $\\theta$ 取值的可能范围 $\\Theta$ 内挑选使似然函数 $L(x_1, x_2, \\cdots, x_n; \\theta)$ 达到最大的参数值 $\\hat{\\theta}$，作为参数 $\\theta$ 的估计值。即取 $\\hat{\\theta}$ 使\n",
    "\n",
    "$$ L(x_1, x_2, \\cdots, x_n; \\hat{\\theta}) = \\max_{\\theta \\in \\Theta} L(x_1, x_2, \\cdots, x_n; \\theta) $$\n",
    "\n",
    "这样得到的 $\\hat{\\theta}$ 与样本值 $x_1, x_2, \\cdots, x_n$ 有关，常记为 $\\hat{\\theta}(x_1, x_2, \\cdots, x_n)$，称为参数 $\\theta$ 的极大似然估计值，而相应的统计量 $\\hat{\\theta}(X_1,X_2,\\cdots,X_n)$ 称为参数 $\\theta$ 的极大似然估计量。"
   ]
  },
  {
   "cell_type": "markdown",
   "metadata": {},
   "source": [
    "## 连续性随机变量\n",
    "\n",
    "若总体X属连续性，其概率密度 $f(x;\\theta), \\theta \\in \\Theta$ 的形式已知，θ为待估参数，Θ是θ可能取值的范围。设 $X_1,X2,\\cdots,X_n$ 是来自X的样本，则 $X_1,X2,\\cdots,X_n$ 的联合密度为\n",
    "\n",
    "$$ \\prod_{i=1}^{n} f(x_i, \\theta) $$\n",
    "\n",
    "设 $x_1,x_2,\\cdots,x_n$ 是相应于样本 $X_1,X_2,\\cdots,X_n$ 的一个样本值，则随机点 $(X_1, X_2, \\cdots, X_n)$ 落在点 $(x_1, x_2, \\cdots, x_n)$ 的邻域（边长分别为 $dx_1, dx_2, \\cdots, dx_n$ 的n维立方体）内的概率近似地为\n",
    "\n",
    "$$ \\prod_{i=1}^{n} f(x_i; \\theta)\\text{d}x_i $$\n",
    "\n",
    "其值随 $\\theta$ 的取值而变化。与离散型的情况一样，我们取 $\\theta$ 的估计值 $\\hat{\\theta}$ 使上式的概率取到最大值，但因子 $\\prod_{i=1}^{n}\\text{d}x_i$ 不随 $\\theta$ 而变，故只需考虑函数\n",
    "\n",
    "$$ L(\\theta) = L(x_1,x_2,\\cdots,x_n;\\theta) = \\prod_{i=1}^{n}f(x_i; \\theta) $$\n",
    "\n",
    "的最大值。这里 $L(\\theta)$ 称为样本的似然函数。若\n",
    "\n",
    "$$ L(x_1, x_2, \\cdots, x_n; \\hat{\\theta}) = \\max_{\\theta \\in \\Theta} L(x_1, x_2, \\cdots, x_n; \\theta) $$\n",
    "\n",
    "则称 $\\hat{\\theta}(x_1,x_2,\\cdots,x_n)$ 为 $\\theta$ 的最大似然估计值，称 $\\hat{\\theta}(X_1, X_2, \\cdots, X_n)$ 为 $\\theta$ 的最大似然估计量。"
   ]
  },
  {
   "cell_type": "markdown",
   "metadata": {},
   "source": [
    "## 最大值求解\n",
    "\n",
    "从上面可以看出，确定最大似然估计量的问题就归结为微分学中的求最大值的问题了。\n",
    "\n",
    "在很多情形下，$p(x; \\theta)$ 和 $f(x; \\theta)$ 关于 $\\theta$ 可微，这时 $\\hat{\\theta}$ 常可从方程\n",
    "\n",
    "$$ \\frac{\\text{d}}{\\text{d} \\theta} L(\\theta) = 0 $$\n",
    "\n",
    "解得。又因 $L(\\theta)$ 与 $\\ln L(\\theta)$ 在同一 $\\theta$ 处取到极值，因此，$\\theta$ 的极大似然估计也可以从方程\n",
    "\n",
    "$$ \\frac{\\text{d}}{\\text{d} \\theta} \\ln L(\\theta) = 0 $$\n",
    "\n",
    "求得，而从后一方程求解往往比较方便，称为对数似然方程。"
   ]
  },
  {
   "cell_type": "markdown",
   "metadata": {},
   "source": [
    "## 例子\n",
    "\n",
    "### 单个未知参数\n",
    "\n",
    "**问题** 设 $X \\sim b(1, p)$。$X_1, X_2, \\cdots, X_n$ 是来自X的一个样本，试求参数p的最大似然估计量。\n",
    "\n",
    "**解** 设 $x_1, x_2, \\cdots, x_n$ 是相应于样本 $X_1, X_2, \\cdots, X_n$ 的一个样本值。X的分布律为\n",
    "\n",
    "$$ P\\{ X=x \\} = p^{x}(1-p)^{1-x}, \\quad x=0,1 $$\n",
    "\n",
    "故似然函数为\n",
    "\n",
    "$$ L(p) = \\prod_{i=1}^{n} p^{x_i} (1-p)^{1-x_i} = p^{\\sum_{i=1}^{n}x_i} (1-p)^{n - \\sum_{i=1}^{n} x_i} $$\n",
    "\n",
    "而\n",
    "\n",
    "$$ \\ln L(p) = \\left( \\sum_{i=1}^{n} x_i \\right) \\ln p + \\left( n - \\sum_{i=1}^{n} x_i \\right) \\ln (1-p) $$\n",
    "\n",
    "令\n",
    "\n",
    "$$ \\frac{\\text{d}}{\\text{d} p} \\ln L(p) = \\frac{\\sum_{i=1}^{n} x_i}{p} - \\frac{n - \\sum_{i=1}^{n}x_i}{1-p} = 0 $$\n",
    "\n",
    "解得p的极大似然估计值\n",
    "\n",
    "$$ \\hat{p} = \\frac{1}{n} \\sum_{i=1}^{n} x_i = \\overline{x} $$\n",
    "\n",
    "p的极大似然估计量为\n",
    "\n",
    "$$ \\hat{p} = \\frac{1}{n} \\sum_{i=1}^{n} X_i = \\overline{X} $$\n",
    "\n"
   ]
  },
  {
   "cell_type": "markdown",
   "metadata": {},
   "source": [
    "### 多个未知参数\n",
    "\n",
    "极大似然估计法也适用于分布中含多个未知参数 $\\theta_1, \\theta_2, \\cdots, \\theta_k$ 的情况。这时，似然函数L是这些未知参数的函数。分别令\n",
    "\n",
    "$$ \\frac{\\partial}{\\partial \\theta_i} L = 0,\\ i=1,2,\\cdots,k $$\n",
    "\n",
    "或令\n",
    "\n",
    "$$ \\frac{\\partial}{\\partial \\theta_i} \\ln L = 0, \\ i=1,2,\\cdots, k $$\n",
    "\n",
    "解上述由k个方程组成的方程组，即可得到各未知参数 $\\theta_i(i=1,2,\\cdots,k)$ 的最大似然估计值 $\\hat{\\theta}_i$。\n",
    "\n",
    "**问题** 设 $X \\sim N(\\mu, \\sigma^2)$，$\\mu, \\sigma^2$ 为未知参数，$x_1,x_2,\\cdots,x_n$ 是来自X的一个样本值。求 $\\mu, \\sigma^2$ 的极大似然估计量。\n",
    "\n",
    "**解** X的概率密度为\n",
    "\n",
    "$$ f(x; \\mu, \\sigma^2) = \\frac{1}{\\sqrt{2\\pi} \\sigma} \\exp{\\left[ -\\frac{1}{2\\sigma^2}(x-\\mu)^2 \\right]} $$\n",
    "\n",
    "似然函数为\n",
    "\n",
    "$$ \\begin{align*}\n",
    "L(\\mu, \\sigma^2) &= \\prod_{i=1}^{n} \\frac{1}{\\sqrt{2\\pi} \\sigma} \\exp\\left[ -\\frac{1}{2\\sigma^2} (x_i - \\mu)^2 \\right] \\\\\n",
    "&= (2\\pi)^{-n/2}(\\sigma^2)^{-n/2} \\exp \\left[ -\\frac{1}{2\\sigma^2} \\sum_{i=1}^{n} (x_i - \\mu)^2 \\right]\n",
    "\\end{align*}$$\n",
    "\n",
    "而\n",
    "\n",
    "$$ \\ln L = -\\frac{n}{2} \\ln (2\\pi) - \\frac{n}{2} \\ln \\sigma^2 - \\frac{1}{2\\sigma^2} \\sum_{i=1}^{n}(x_i - \\mu)^2 $$\n",
    "\n",
    "令\n",
    "\n",
    "$$ \\left\\{ \\begin{align*}\n",
    "\\frac{\\partial}{\\partial \\mu} \\ln L &= \\frac{1}{\\sigma^2} \\left( \\sum_{i=1}^{n} x_i -n\\mu \\right) = 0 \\\\\n",
    "\\frac{\\partial}{\\partial \\sigma^2}\\ln L &= -\\frac{n}{2\\sigma^2} + \\frac{1}{2(\\sigma^2)^2} \\sum_{i=1}^{n} (x_i - \\mu)^2 = 0\n",
    "\\end{align*}\\right.\n",
    "$$\n",
    "\n",
    "解得\n",
    "\n",
    "$$ \\hat{\\mu} = \\frac{1}{n} \\sum_{i=1}^{n} x_i = \\overline{x},\\ \\hat{\\sigma^2} = \\frac{1}{n} \\sum_{i=1}^{n}(x_i - \\overline{x})^2 $$\n",
    "\n",
    "极大似然估计量分别为\n",
    "\n",
    "$$ \\hat{\\mu} = \\overline{X},\\ \\hat{\\sigma^2} = \\frac{1}{n} \\sum_{i=1}^{n}(X_i - \\overline{X})^2 $$\n"
   ]
  }
 ],
 "metadata": {
  "kernelspec": {
   "display_name": "Python 3",
   "language": "python",
   "name": "python3"
  },
  "language_info": {
   "codemirror_mode": {
    "name": "ipython",
    "version": 3
   },
   "file_extension": ".py",
   "mimetype": "text/x-python",
   "name": "python",
   "nbconvert_exporter": "python",
   "pygments_lexer": "ipython3",
   "version": "3.5.1"
  }
 },
 "nbformat": 4,
 "nbformat_minor": 0
}
