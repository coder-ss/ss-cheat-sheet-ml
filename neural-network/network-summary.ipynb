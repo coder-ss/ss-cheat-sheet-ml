{
 "cells": [
  {
   "cell_type": "markdown",
   "metadata": {},
   "source": [
    "# 神经网络概念\n",
    "\n",
    "## 神经元模型\n",
    "\n",
    "神经元（neuron）是神经网络（neural networks）最基本的成分。在生物神经网络中，每个神经元与其他神经元相连，当它“兴奋”时，就会向相连的神经元发送化学物质，从而改变这些神经元的电位；如果某神经元的电位超过了一个“阈值”（threshold），那么它就会被激活，即“兴奋”起来，向其他神经元发送化学物质。\n",
    "\n",
    "“M-P神经元模型”是McCulloch和Pitts在1943年提出来的，如下图所示。这个模型中，神经元接收到来自n个其他神经元传递过来的输入信号，这些输入信号通过带权重的连接（connection）进行传递，神经元接收到的总输入值将与神经元的阈值进行比较，然后通过“激活函数”（activation function）处理以产生神经元的输出。\n",
    "\n",
    "<img src=\"./mcp.jpg\" width=\"480\" />\n",
    "\n",
    "理想中的激活函数是下图(a)所示的阶跃函数，它将输入值映射为输出值“0”或“1”，显然“1”对应于神经元兴奋，“0”对应于神经元抑制。然而，阶跃函数具有不连续、不光滑等不太好的性质，因此实际常用Sigmoid函数作为激活函数。典型的Sigmoid函数如下图(b)所示，它把可能在较大范围内变化的输入值挤压到(0, 1)输出范围内，因此有时也称为“挤压函数”（squashing function）。\n",
    "\n",
    "<img src=\"./activation-function.jpg\" width=\"480\" />\n",
    "\n",
    "把许多这样的神经元按一定的层次结构连接起来，就得到了神经网络。"
   ]
  },
  {
   "cell_type": "markdown",
   "metadata": {},
   "source": [
    "## 多层前馈神经网络\n",
    "\n",
    "一般的神经网络如下图所示，每层神经元与下一层神经元全互连，神经元之间不存在同层连接，也不存在跨层连接。这样的神经网络结构通常称为“多层前馈神经网络”（multi-layer feedforward neural networks），其中输入层神经元接收外界输入，隐层与输出层神经元对信号进行加工，最终结果由输出层神经元输出；换言之，输入层神经元仅是接收输入，不进行函数处理，隐层与输出层包含功能神经元。因此，下图(a)通常被称为“两层网络”，也可以叫“单隐层网络”。只需包含隐层，即可称为多层网络。神经网络的学习过程，就是根据训练数据来调整神经元之间的“连接权”（connection weight）以及每个功能神经元的阈值；换言之，神经网络“学”到的东西，蕴涵在连接权与阈值中。\n",
    "\n",
    "<img src=\"./multi-layer.jpg\" width=\"480\" />\n",
    "\n",
    "> ”前馈“并不意味着网络中的信号不能向后传，而是指网络拓扑结构上不存在环或回路。"
   ]
  }
 ],
 "metadata": {
  "kernelspec": {
   "display_name": "Python 3",
   "language": "python",
   "name": "python3"
  },
  "language_info": {
   "codemirror_mode": {
    "name": "ipython",
    "version": 3
   },
   "file_extension": ".py",
   "mimetype": "text/x-python",
   "name": "python",
   "nbconvert_exporter": "python",
   "pygments_lexer": "ipython3",
   "version": "3.5.1"
  }
 },
 "nbformat": 4,
 "nbformat_minor": 2
}
