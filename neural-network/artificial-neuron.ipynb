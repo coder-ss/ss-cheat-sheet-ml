{
 "cells": [
  {
   "cell_type": "markdown",
   "metadata": {},
   "source": [
    "# 神经元模型\n",
    "\n",
    "神经元（neuron）是神经网络（neural networks）最基本的成分。在生物神经网络中，每个神经元与其他神经元相连，当它“兴奋”时，就会向相连的神经元发送化学物质，从而改变这些神经元的电位；如果某神经元的电位超过了一个“阈值”（threshold），那么它就会被激活，即“兴奋”起来，向其他神经元发送化学物质。\n",
    "\n",
    "“M-P神经元模型”是McCulloch和Pitts在1943年提出来的，如下图所示。这个模型中，神经元接收到来自n个其他神经元传递过来的输入信号，这些输入信号通过带权重的连接（connection）进行传递，神经元接收到的总输入值将与神经元的阈值进行比较，然后通过“激活函数”（activation function）处理以产生神经元的输出。\n",
    "\n",
    "<img src=\"./mcp.jpg\" width=\"480\" />\n",
    "\n",
    "理想中的激活函数是下图(a)所示的阶跃函数，它将输入值映射为输出值“0”或“1”，显然“1”对应于神经元兴奋，“0”对应于神经元抑制。然而，阶跃函数具有不连续、不光滑等不太好的性质，因此实际常用Sigmoid函数作为激活函数。典型的Sigmoid函数如下图(b)所示，它把可能在较大范围内变化的输入值挤压到(0, 1)输出范围内，因此有时也称为“挤压函数”（squashing function）。\n",
    "\n",
    "<img src=\"./activation-function.jpg\" width=\"480\" />\n",
    "\n",
    "把许多这样的神经元按一定的层次结构连接起来，就得到了神经网络。"
   ]
  }
 ],
 "metadata": {
  "kernelspec": {
   "display_name": "Python 3",
   "language": "python",
   "name": "python3"
  },
  "language_info": {
   "codemirror_mode": {
    "name": "ipython",
    "version": 3
   },
   "file_extension": ".py",
   "mimetype": "text/x-python",
   "name": "python",
   "nbconvert_exporter": "python",
   "pygments_lexer": "ipython3",
   "version": "3.6.0"
  }
 },
 "nbformat": 4,
 "nbformat_minor": 2
}
