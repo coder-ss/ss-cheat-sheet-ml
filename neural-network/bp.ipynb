{
 "cells": [
  {
   "cell_type": "markdown",
   "metadata": {},
   "source": [
    "# 误差逆传播算法\n",
    "\n",
    "误差逆传播算法（error BackPropagation，简称BP）算法也叫“反向传播算法”。\n",
    "\n",
    "给定训练集 $D = \\{ (\\boldsymbol{x}_1, \\boldsymbol{y}_1), (\\boldsymbol{x}_2, \\boldsymbol{y}_2), \\ldots, (\\boldsymbol{x}_m, \\boldsymbol{y}_m) \\},\\ \\boldsymbol{x}_i \\in \\mathbb{R}^d, \\ \\boldsymbol{y}_i \\in \\mathbb{R}^l$，即输入示例由d个属性描述，输出l维实值向量。下图给出了一个拥有d个输入神经元、l个输出神经元、q个隐层神经元的多层前馈网络结构，其中\n",
    "\n",
    "- $\\theta_j$ 表示输出层第j个神经元的阈值\n",
    "- $\\gamma_h$ 表示隐层第h个神经元的阈值\n",
    "- $v_{ih}$ 表示输入层第i个神经元与隐层第h个神经元之间的连接权\n",
    "- $w_{hj}$ 表示隐层第h个神经元与输出层第j个神经元之间的连接权\n",
    "\n",
    "记\n",
    "\n",
    "- $\\alpha_h = \\sum_{i=1}^{d} v_{ih}x_i$ 表示隐层第h个神经元接收到的输入\n",
    "- $\\beta_j = \\sum{h=1}^{q} w_{hj}b_h$ 表示输出层第j个神经元接收到的输入，其中 $b_h$ 为隐层第h个神经元的输出。\n",
    "\n",
    "假设隐层和输出层的激活函数都使用Sigmoid函数 $f = \\frac{1}{1 + e^{-x}}$ 。\n",
    "\n",
    "<img src=\"./bp.jpg\" width=\"480\" />"
   ]
  }
 ],
 "metadata": {
  "kernelspec": {
   "display_name": "Python 3",
   "language": "python",
   "name": "python3"
  },
  "language_info": {
   "codemirror_mode": {
    "name": "ipython",
    "version": 3
   },
   "file_extension": ".py",
   "mimetype": "text/x-python",
   "name": "python",
   "nbconvert_exporter": "python",
   "pygments_lexer": "ipython3",
   "version": "3.5.1"
  }
 },
 "nbformat": 4,
 "nbformat_minor": 0
}
