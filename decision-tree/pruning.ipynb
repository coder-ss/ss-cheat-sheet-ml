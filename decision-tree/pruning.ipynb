{
 "cells": [
  {
   "cell_type": "markdown",
   "metadata": {},
   "source": [
    "# 剪枝\n",
    "\n",
    "建议先阅读：\n",
    "- [决策树概率与基本流程](./summary.ipynb)。\n",
    "- [ID3、C4.5、CART决策树算法](./ID3-C45-CART.ipynb)。\n",
    "\n",
    "## Introduce\n",
    "\n",
    "剪枝（pruning）是决策树学习算法对付“过拟合”的主要手段。主动去掉一些分支，防止决策树把训练集自身的特点当作所有数据都具有的一般性质。\n",
    "\n",
    "决策树剪枝的基本策略有“预剪枝”（prepruning）和“后剪枝”（postpruning）：\n",
    "- 预剪枝是指在决策树生成过程中，对每个结点在划分前先进行估计，若当前结点的划分不能带来决策树泛化性能提升，则停止划分并将当前结点标记为叶结点。\n",
    "- 后剪枝是先从训练集生成一颗完整的决策树，然后自底向上地对非叶结点进行考察，若将改结点对应的子树替换为叶结点能带来决策树泛化性能提升，则将该子树替换为叶结点。\n",
    "\n",
    "优缺点：\n",
    "\n",
    "- 预剪枝训练时间短，但有欠拟合的风险。\n",
    "- 后剪枝泛化性能往往优于预剪枝，但训练时间开销比未剪枝决策树和预剪枝决策树都要大得多。"
   ]
  },
  {
   "cell_type": "markdown",
   "metadata": {
    "collapsed": true
   },
   "source": [
    "## Demo\n",
    "\n",
    "通过例子对剪枝有一个直观的认识。以如下一份来自周志华老师《机器学习》的西瓜数据集为例，分别演示预剪枝、后剪枝的过程。"
   ]
  },
  {
   "cell_type": "code",
   "execution_count": 26,
   "metadata": {
    "collapsed": false
   },
   "outputs": [
    {
     "data": {
      "text/html": [
       "<div>\n",
       "<style>\n",
       "    .dataframe thead tr:only-child th {\n",
       "        text-align: right;\n",
       "    }\n",
       "\n",
       "    .dataframe thead th {\n",
       "        text-align: left;\n",
       "    }\n",
       "\n",
       "    .dataframe tbody tr th {\n",
       "        vertical-align: top;\n",
       "    }\n",
       "</style>\n",
       "<table border=\"1\" class=\"dataframe\">\n",
       "  <thead>\n",
       "    <tr style=\"text-align: right;\">\n",
       "      <th></th>\n",
       "      <th>色泽</th>\n",
       "      <th>根蒂</th>\n",
       "      <th>敲声</th>\n",
       "      <th>纹理</th>\n",
       "      <th>脐部</th>\n",
       "      <th>触感</th>\n",
       "      <th>好瓜</th>\n",
       "    </tr>\n",
       "  </thead>\n",
       "  <tbody>\n",
       "    <tr>\n",
       "      <th>0</th>\n",
       "      <td>青绿</td>\n",
       "      <td>蜷缩</td>\n",
       "      <td>浊响</td>\n",
       "      <td>清晰</td>\n",
       "      <td>凹陷</td>\n",
       "      <td>硬滑</td>\n",
       "      <td>是</td>\n",
       "    </tr>\n",
       "    <tr>\n",
       "      <th>1</th>\n",
       "      <td>乌黑</td>\n",
       "      <td>蜷缩</td>\n",
       "      <td>沉闷</td>\n",
       "      <td>清晰</td>\n",
       "      <td>凹陷</td>\n",
       "      <td>硬滑</td>\n",
       "      <td>是</td>\n",
       "    </tr>\n",
       "    <tr>\n",
       "      <th>2</th>\n",
       "      <td>乌黑</td>\n",
       "      <td>蜷缩</td>\n",
       "      <td>浊响</td>\n",
       "      <td>清晰</td>\n",
       "      <td>凹陷</td>\n",
       "      <td>硬滑</td>\n",
       "      <td>是</td>\n",
       "    </tr>\n",
       "    <tr>\n",
       "      <th>3</th>\n",
       "      <td>青绿</td>\n",
       "      <td>蜷缩</td>\n",
       "      <td>沉闷</td>\n",
       "      <td>清晰</td>\n",
       "      <td>凹陷</td>\n",
       "      <td>硬滑</td>\n",
       "      <td>是</td>\n",
       "    </tr>\n",
       "    <tr>\n",
       "      <th>4</th>\n",
       "      <td>浅白</td>\n",
       "      <td>蜷缩</td>\n",
       "      <td>浊响</td>\n",
       "      <td>清晰</td>\n",
       "      <td>凹陷</td>\n",
       "      <td>硬滑</td>\n",
       "      <td>是</td>\n",
       "    </tr>\n",
       "    <tr>\n",
       "      <th>5</th>\n",
       "      <td>青绿</td>\n",
       "      <td>稍蜷</td>\n",
       "      <td>浊响</td>\n",
       "      <td>清晰</td>\n",
       "      <td>稍凹</td>\n",
       "      <td>软粘</td>\n",
       "      <td>是</td>\n",
       "    </tr>\n",
       "    <tr>\n",
       "      <th>6</th>\n",
       "      <td>乌黑</td>\n",
       "      <td>稍蜷</td>\n",
       "      <td>浊响</td>\n",
       "      <td>稍糊</td>\n",
       "      <td>稍凹</td>\n",
       "      <td>软粘</td>\n",
       "      <td>是</td>\n",
       "    </tr>\n",
       "    <tr>\n",
       "      <th>7</th>\n",
       "      <td>乌黑</td>\n",
       "      <td>稍蜷</td>\n",
       "      <td>浊响</td>\n",
       "      <td>清晰</td>\n",
       "      <td>稍凹</td>\n",
       "      <td>硬滑</td>\n",
       "      <td>是</td>\n",
       "    </tr>\n",
       "    <tr>\n",
       "      <th>8</th>\n",
       "      <td>乌黑</td>\n",
       "      <td>稍蜷</td>\n",
       "      <td>沉闷</td>\n",
       "      <td>稍糊</td>\n",
       "      <td>稍凹</td>\n",
       "      <td>硬滑</td>\n",
       "      <td>否</td>\n",
       "    </tr>\n",
       "    <tr>\n",
       "      <th>9</th>\n",
       "      <td>青绿</td>\n",
       "      <td>硬挺</td>\n",
       "      <td>清脆</td>\n",
       "      <td>清晰</td>\n",
       "      <td>平坦</td>\n",
       "      <td>软粘</td>\n",
       "      <td>否</td>\n",
       "    </tr>\n",
       "    <tr>\n",
       "      <th>10</th>\n",
       "      <td>浅白</td>\n",
       "      <td>硬挺</td>\n",
       "      <td>清脆</td>\n",
       "      <td>模糊</td>\n",
       "      <td>平坦</td>\n",
       "      <td>硬滑</td>\n",
       "      <td>否</td>\n",
       "    </tr>\n",
       "    <tr>\n",
       "      <th>11</th>\n",
       "      <td>浅白</td>\n",
       "      <td>蜷缩</td>\n",
       "      <td>浊响</td>\n",
       "      <td>模糊</td>\n",
       "      <td>平坦</td>\n",
       "      <td>软粘</td>\n",
       "      <td>否</td>\n",
       "    </tr>\n",
       "    <tr>\n",
       "      <th>12</th>\n",
       "      <td>青绿</td>\n",
       "      <td>稍蜷</td>\n",
       "      <td>浊响</td>\n",
       "      <td>稍糊</td>\n",
       "      <td>凹陷</td>\n",
       "      <td>硬滑</td>\n",
       "      <td>否</td>\n",
       "    </tr>\n",
       "    <tr>\n",
       "      <th>13</th>\n",
       "      <td>浅白</td>\n",
       "      <td>稍蜷</td>\n",
       "      <td>沉闷</td>\n",
       "      <td>稍糊</td>\n",
       "      <td>凹陷</td>\n",
       "      <td>硬滑</td>\n",
       "      <td>否</td>\n",
       "    </tr>\n",
       "    <tr>\n",
       "      <th>14</th>\n",
       "      <td>乌黑</td>\n",
       "      <td>稍蜷</td>\n",
       "      <td>浊响</td>\n",
       "      <td>清晰</td>\n",
       "      <td>稍凹</td>\n",
       "      <td>软粘</td>\n",
       "      <td>否</td>\n",
       "    </tr>\n",
       "    <tr>\n",
       "      <th>15</th>\n",
       "      <td>浅白</td>\n",
       "      <td>蜷缩</td>\n",
       "      <td>浊响</td>\n",
       "      <td>模糊</td>\n",
       "      <td>平坦</td>\n",
       "      <td>硬滑</td>\n",
       "      <td>否</td>\n",
       "    </tr>\n",
       "    <tr>\n",
       "      <th>16</th>\n",
       "      <td>青绿</td>\n",
       "      <td>蜷缩</td>\n",
       "      <td>沉闷</td>\n",
       "      <td>稍糊</td>\n",
       "      <td>稍凹</td>\n",
       "      <td>硬滑</td>\n",
       "      <td>否</td>\n",
       "    </tr>\n",
       "  </tbody>\n",
       "</table>\n",
       "</div>"
      ],
      "text/plain": [
       "    色泽  根蒂  敲声  纹理  脐部  触感 好瓜\n",
       "0   青绿  蜷缩  浊响  清晰  凹陷  硬滑  是\n",
       "1   乌黑  蜷缩  沉闷  清晰  凹陷  硬滑  是\n",
       "2   乌黑  蜷缩  浊响  清晰  凹陷  硬滑  是\n",
       "3   青绿  蜷缩  沉闷  清晰  凹陷  硬滑  是\n",
       "4   浅白  蜷缩  浊响  清晰  凹陷  硬滑  是\n",
       "5   青绿  稍蜷  浊响  清晰  稍凹  软粘  是\n",
       "6   乌黑  稍蜷  浊响  稍糊  稍凹  软粘  是\n",
       "7   乌黑  稍蜷  浊响  清晰  稍凹  硬滑  是\n",
       "8   乌黑  稍蜷  沉闷  稍糊  稍凹  硬滑  否\n",
       "9   青绿  硬挺  清脆  清晰  平坦  软粘  否\n",
       "10  浅白  硬挺  清脆  模糊  平坦  硬滑  否\n",
       "11  浅白  蜷缩  浊响  模糊  平坦  软粘  否\n",
       "12  青绿  稍蜷  浊响  稍糊  凹陷  硬滑  否\n",
       "13  浅白  稍蜷  沉闷  稍糊  凹陷  硬滑  否\n",
       "14  乌黑  稍蜷  浊响  清晰  稍凹  软粘  否\n",
       "15  浅白  蜷缩  浊响  模糊  平坦  硬滑  否\n",
       "16  青绿  蜷缩  沉闷  稍糊  稍凹  硬滑  否"
      ]
     },
     "execution_count": 26,
     "metadata": {},
     "output_type": "execute_result"
    }
   ],
   "source": [
    "import pandas as pd\n",
    "from collections import OrderedDict\n",
    "\n",
    "data_dict = OrderedDict( (\n",
    "        ('色泽', ['青绿', '乌黑', '乌黑', '青绿', '浅白', '青绿', '乌黑', '乌黑', '乌黑', '青绿', '浅白', '浅白', '青绿', '浅白', '乌黑', '浅白', '青绿']),\n",
    "        ('根蒂', ['蜷缩', '蜷缩', '蜷缩', '蜷缩', '蜷缩', '稍蜷', '稍蜷', '稍蜷', '稍蜷', '硬挺', '硬挺', '蜷缩', '稍蜷', '稍蜷', '稍蜷', '蜷缩', '蜷缩']),\n",
    "        ('敲声', ['浊响', '沉闷', '浊响', '沉闷', '浊响', '浊响', '浊响', '浊响', '沉闷', '清脆', '清脆', '浊响', '浊响', '沉闷', '浊响', '浊响', '沉闷']),\n",
    "        ('纹理', ['清晰', '清晰', '清晰', '清晰', '清晰', '清晰', '稍糊', '清晰', '稍糊', '清晰', '模糊', '模糊', '稍糊', '稍糊', '清晰', '模糊', '稍糊']),\n",
    "        ('脐部', ['凹陷', '凹陷', '凹陷', '凹陷', '凹陷', '稍凹', '稍凹', '稍凹', '稍凹', '平坦', '平坦', '平坦', '凹陷', '凹陷', '稍凹', '平坦', '稍凹']),\n",
    "        ('触感', ['硬滑', '硬滑', '硬滑', '硬滑', '硬滑', '软粘', '软粘', '硬滑', '硬滑', '软粘', '硬滑', '软粘', '硬滑', '硬滑', '软粘', '硬滑', '硬滑']),\n",
    "        ('好瓜', ['是', '是', '是', '是', '是', '是', '是', '是', '否', '否', '否', '否', '否', '否', '否', '否', '否'])\n",
    "    ) )\n",
    "\n",
    "data = pd.DataFrame.from_dict(data_dict)\n",
    "data"
   ]
  },
  {
   "cell_type": "markdown",
   "metadata": {},
   "source": [
    "将数据划分为训练集与测试集："
   ]
  },
  {
   "cell_type": "code",
   "execution_count": 27,
   "metadata": {
    "collapsed": false
   },
   "outputs": [
    {
     "name": "stdout",
     "output_type": "stream",
     "text": [
      "    色泽  根蒂  敲声  纹理  脐部  触感 好瓜\n",
      "0   青绿  蜷缩  浊响  清晰  凹陷  硬滑  是\n",
      "1   乌黑  蜷缩  沉闷  清晰  凹陷  硬滑  是\n",
      "2   乌黑  蜷缩  浊响  清晰  凹陷  硬滑  是\n",
      "5   青绿  稍蜷  浊响  清晰  稍凹  软粘  是\n",
      "6   乌黑  稍蜷  浊响  稍糊  稍凹  软粘  是\n",
      "9   青绿  硬挺  清脆  清晰  平坦  软粘  否\n",
      "13  浅白  稍蜷  沉闷  稍糊  凹陷  硬滑  否\n",
      "14  乌黑  稍蜷  浊响  清晰  稍凹  软粘  否\n",
      "15  浅白  蜷缩  浊响  模糊  平坦  硬滑  否\n",
      "16  青绿  蜷缩  沉闷  稍糊  稍凹  硬滑  否\r\n",
      "\r\n",
      "    色泽  根蒂  敲声  纹理  脐部  触感 好瓜\n",
      "3   青绿  蜷缩  沉闷  清晰  凹陷  硬滑  是\n",
      "4   浅白  蜷缩  浊响  清晰  凹陷  硬滑  是\n",
      "7   乌黑  稍蜷  浊响  清晰  稍凹  硬滑  是\n",
      "8   乌黑  稍蜷  沉闷  稍糊  稍凹  硬滑  否\n",
      "10  浅白  硬挺  清脆  模糊  平坦  硬滑  否\n",
      "11  浅白  蜷缩  浊响  模糊  平坦  软粘  否\n",
      "12  青绿  稍蜷  浊响  稍糊  凹陷  硬滑  否\n"
     ]
    }
   ],
   "source": [
    "train = data.iloc[[0,1,2,5,6,9,13,14,15,16], :]\n",
    "test = data.iloc[[3,4,7,8,10,11,12], :]\n",
    "\n",
    "print(train, end=\"\\r\\n\\r\\n\")\n",
    "print(test)"
   ]
  },
  {
   "cell_type": "markdown",
   "metadata": {},
   "source": [
    "将数据集按特征、标签拆分开。"
   ]
  },
  {
   "cell_type": "code",
   "execution_count": 28,
   "metadata": {
    "collapsed": false
   },
   "outputs": [
    {
     "name": "stdout",
     "output_type": "stream",
     "text": [
      "(10, 6) (10, 1)\n",
      "(7, 6) (7, 1)\n"
     ]
    }
   ],
   "source": [
    "X_train = train.drop('好瓜', axis=1)\n",
    "y_train = pd.DataFrame(train['好瓜'], columns=['好瓜'])\n",
    "print(X_train.shape, y_train.shape)\n",
    "\n",
    "X_test = test.drop('好瓜', axis=1)\n",
    "y_test = pd.DataFrame(test['好瓜'], columns=['好瓜'])\n",
    "print(X_test.shape, y_test.shape)"
   ]
  },
  {
   "cell_type": "markdown",
   "metadata": {},
   "source": [
    "引入决策树绘制函数，代码来自于《机器学习实战》"
   ]
  },
  {
   "cell_type": "code",
   "execution_count": 29,
   "metadata": {
    "collapsed": true
   },
   "outputs": [],
   "source": [
    "import matplotlib.pyplot as plt\n",
    "%matplotlib inline\n",
    "\n",
    "# 定义文本框和箭头格式\n",
    "decisionNode = dict(boxstyle='sawtooth', fc='0.8')\n",
    "leafNode = dict(boxstyle='round4', fc='0.8') #叶结点\n",
    "arrow_args = dict(arrowstyle='<-') #箭头类型\n",
    "\n",
    "def plotNode(nodeTxt, centerPt, parentPt, nodeType):\n",
    "    \"\"\" 绘制一个结点，并有箭头指向该结点\n",
    "    Args:\n",
    "        nodeTxt：结点文字\n",
    "        centerPt：结点位置\n",
    "        parentPt：箭头起始位置\n",
    "        nodeType：结点类型，decisionNode或leafNode\n",
    "    \"\"\"\n",
    "    # 全局变量createPlot.ax1定义了绘图区\n",
    "    createPlot.ax1.annotate(nodeTxt, xy=parentPt, xycoords='axes fraction',\n",
    "                            xytext=centerPt, textcoords='axes fraction',\n",
    "                            va='center', ha='center', bbox=nodeType, arrowprops=arrow_args)\n",
    "\n",
    "def getNumLeafs(myTree):\n",
    "    \"\"\" 获取叶结点的数目\n",
    "    \"\"\"\n",
    "    numLeafs = 0\n",
    "    firstStr = list(myTree.keys())[0]\n",
    "    secondDict = myTree[firstStr]\n",
    "    for key in secondDict.keys():\n",
    "        if type(secondDict[key]).__name__ == 'dict':\n",
    "            numLeafs += getNumLeafs(secondDict[key])\n",
    "        else:\n",
    "            numLeafs += 1\n",
    "    return numLeafs\n",
    "            \n",
    "def getTreeDepth(myTree):\n",
    "    \"\"\" 获取树的层数\n",
    "    \"\"\"\n",
    "    maxDepth = 0\n",
    "    firstStr = list(myTree.keys())[0]\n",
    "    secondDict = myTree[firstStr]\n",
    "    for key in secondDict.keys():\n",
    "        if type(secondDict[key]).__name__ == 'dict':\n",
    "            thisDepth = 1 + getTreeDepth(secondDict[key])\n",
    "        else:\n",
    "            thisDepth = 1\n",
    "        if thisDepth > maxDepth:\n",
    "            maxDepth = thisDepth\n",
    "    return maxDepth\n",
    "\n",
    "def plotMidText(cntrPt, parentPt, txtString):\n",
    "    \"\"\" 在父子结点间填充文本信息\n",
    "    Args：\n",
    "        cntrPt：结点位置\n",
    "        parentPt：箭头起始位置\n",
    "        txtString：文字\n",
    "    \"\"\"\n",
    "    xMid = (parentPt[0] - cntrPt[0]) / 2.0 + cntrPt[0]\n",
    "    yMid = (parentPt[1] - cntrPt[1]) / 2.0 + cntrPt[1]\n",
    "    createPlot.ax1.text(xMid, yMid, txtString)\n",
    "    \n",
    "def plotTree(myTree, parentPt, nodeTxt):\n",
    "    \"\"\" 绘制树\n",
    "    \"\"\"\n",
    "    numLeafs = getNumLeafs(myTree) #当前树宽\n",
    "    depth = getTreeDepth(myTree) # 当前树高\n",
    "    firstStr = list(myTree.keys())[0] #根结点的属性\n",
    "    \n",
    "    # x的偏移量要保证在 0.5/plotTree.totalW 到 (plotTree.totalW-0.5) / plotTree.totalW 的范围内均匀分布\n",
    "    cntrPt = (plotTree.xOff + (1.0 + float(numLeafs))/2.0/plotTree.totalW, plotTree.yOff)\n",
    "    plotMidText(cntrPt, parentPt, nodeTxt)\n",
    "    plotNode(firstStr, cntrPt, parentPt, decisionNode) #绘制根结点\n",
    "    secondDict = myTree[firstStr] # 根结点的子树\n",
    "    \n",
    "    plotTree.yOff = plotTree.yOff - 1.0 / plotTree.totalD # 绘制下一层的时候，y减去一层的高度\n",
    "    for key in secondDict.keys():\n",
    "        if type(secondDict[key]).__name__ == 'dict':\n",
    "            # 子树是一棵树，递归绘制\n",
    "            plotTree(secondDict[key], cntrPt, str(key))\n",
    "        else:\n",
    "            # 子树不是树，那么是一个叶子结点\n",
    "            plotTree.xOff = plotTree.xOff + 1.0 / plotTree.totalW\n",
    "            plotNode(secondDict[key], (plotTree.xOff, plotTree.yOff), cntrPt, leafNode)\n",
    "            plotMidText((plotTree.xOff, plotTree.yOff), cntrPt, str(key))\n",
    "            \n",
    "    plotTree.yOff = plotTree.yOff + 1.0 / plotTree.totalD # 回到当前层的位置\n",
    "    \n",
    "\n",
    "def createPlot(inTree):\n",
    "    \"\"\" 绘制入口\n",
    "    整个绘图在x=(0, 1.0)，y=(0, 1.0)的范围内完成。左下角是点(0, 0)，右上角是点(1.0, 1.0)。\n",
    "    所以，根结点的中心在(0.5, 1.0)处\n",
    "    \"\"\"\n",
    "    fig = plt.figure(1, facecolor='white')\n",
    "    fig.clf()\n",
    "    axprops = dict(xticks=[], yticks=[])\n",
    "    createPlot.ax1 = plt.subplot(111, frameon=False, **axprops)\n",
    "    \n",
    "    plotTree.totalW = float(getNumLeafs(inTree))\n",
    "    plotTree.totalD = float(getTreeDepth(inTree))\n",
    "    plotTree.xOff = -0.5/plotTree.totalW # 按照叶子结点数目将x轴划分为若干部分\n",
    "    plotTree.yOff = 1.0 # y的偏移量以1为基准\n",
    "    plotTree(inTree, (0.5, 1.0), '')\n",
    "    plt.show()"
   ]
  },
  {
   "cell_type": "markdown",
   "metadata": {},
   "source": [
    "不剪枝的情况下，决策树应该如下。我得到的树与周志华老师的有细微出入，但我这里暂时没有发现问题。周老师的树应该是对属性值缺失的属性作了补全处理。"
   ]
  },
  {
   "cell_type": "code",
   "execution_count": 155,
   "metadata": {
    "collapsed": false
   },
   "outputs": [
    {
     "name": "stdout",
     "output_type": "stream",
     "text": [
      "{'脐部': {'稍凹': {'根蒂': {'蜷缩': '否', '稍蜷': {'色泽': {'青绿': '是', '乌黑': {'纹理': {'清晰': '否', '稍糊': '是'}}}}}}, '平坦': '否', '凹陷': {'色泽': {'青绿': '是', '浅白': '否', '乌黑': '是'}}}}\n"
     ]
    },
    {
     "data": {
      "image/png": "[encoded data removed]",
      "text/plain": [
       "<matplotlib.figure.Figure at 0x109b8d4a8>"
      ]
     },
     "metadata": {},
     "output_type": "display_data"
    }
   ],
   "source": [
    "from math import log\n",
    "\n",
    "def information_entropy(labels):\n",
    "    \"\"\" 计算信息熵\n",
    "    Args:\n",
    "        labels：数据集的标签\n",
    "    Return:\n",
    "        信息熵\n",
    "    \"\"\"\n",
    "    list_p = []\n",
    "    for i in set(labels.iloc[:, 0]):\n",
    "        list_p.append(len(labels[labels.iloc[:, 0] == i]) / len(labels))\n",
    "    \n",
    "    e = 0.0\n",
    "    for p in list_p:\n",
    "        e -= p * log(p, 2) \n",
    "    return e\n",
    "    \n",
    "def condition_entropy(d, l, a):\n",
    "    \"\"\" 计算条件熵\n",
    "    Args:\n",
    "        d: 数据集，pandas.DataFrame格式，不包含标签\n",
    "        l: 数据集对应的标签\n",
    "        a: 属性名，即数据集某一列的名称\n",
    "    Return:\n",
    "        条件熵\n",
    "    \"\"\"\n",
    "    ce = 0\n",
    "    for i in set(d[a]):\n",
    "        ce += information_entropy(l.loc[d[a] == i]) * len(d[d[a] == i]) / len(d)\n",
    "    return ce\n",
    "\n",
    "def information_gain(d, l,  a):\n",
    "    \"\"\" 计算信息增益\n",
    "    Args:\n",
    "        d: 数据集，pandas.DataFrame格式，不包含标签\n",
    "        l: 数据集对应的标签\n",
    "        a: 属性名，即数据集某一列的名称\n",
    "    Return:\n",
    "        信息增益\n",
    "    \"\"\"\n",
    "    return information_entropy(l) - condition_entropy(d, l, a)\n",
    "\n",
    "def max_gain(d, l):\n",
    "    \"\"\" 选择信息增益最大的属性\n",
    "    Args:\n",
    "        d: 数据集，pandas.DataFrame格式，不包含标签\n",
    "        l: 数据集对应的标签\n",
    "    Return:\n",
    "        信息增益最大的属性\n",
    "    \"\"\"\n",
    "    max_gain = -0.1\n",
    "    max_a = ''\n",
    "    for a in list(d.columns):\n",
    "        g = information_gain(d, l, a)\n",
    "        if max_gain < g:\n",
    "            max_gain = g; max_a = a\n",
    "        elif max_gain == g: # 与周志华老师的特征选择保持一致\n",
    "            if a == '脐部':\n",
    "                max_a = a\n",
    "    return max_a\n",
    "\n",
    "def create_tree(d, l):\n",
    "    \"\"\" 创建决策树\n",
    "    Args:\n",
    "        d: 数据集，pandas.DataFrame格式，不包含标签\n",
    "        l: 数据集对应的标签\n",
    "    Return:\n",
    "        字典格式的决策树\n",
    "    \"\"\"\n",
    "    # 类别完全相同时停止划分\n",
    "    if len(l.iloc[:, 0].value_counts()) == 1:\n",
    "        return l.iloc[:, 0].iloc[0]\n",
    "    # 没有特征可以用了，选择数量多的标签\n",
    "    if len(d.columns) == 0:\n",
    "        return l.iloc[:, 0].value_counts().idxmax()\n",
    "            \n",
    "    max_a = max_gain(d, l) # 选择特征\n",
    "    \n",
    "    myTree = {max_a: {}}\n",
    "    for aa in set(d[max_a]):\n",
    "        myTree[max_a][aa] = create_tree(d.loc[d[max_a]==aa, :].drop(max_a, axis=1), l.loc[d[max_a]==aa, :])\n",
    "    \n",
    "    return myTree\n",
    "\n",
    "t = create_tree(X_train, y_train)\n",
    "print(t)\n",
    "\n",
    "# 中文乱码时，需要设置字体。Windows系统适用\n",
    "plt.rcParams['font.sans-serif']=['SimHei'] #用来正常显示中文标签\n",
    "plt.rcParams['axes.unicode_minus']=False #用来正常显示负号\n",
    "createPlot(t)"
   ]
  },
  {
   "cell_type": "markdown",
   "metadata": {},
   "source": [
    "该树对训练集的表现并不理想："
   ]
  },
  {
   "cell_type": "code",
   "execution_count": 93,
   "metadata": {
    "collapsed": false
   },
   "outputs": [
    {
     "data": {
      "text/plain": [
       "0.42857142857142855"
      ]
     },
     "execution_count": 93,
     "metadata": {},
     "output_type": "execute_result"
    }
   ],
   "source": [
    "def predict(_tree, row):\n",
    "    \"\"\" 对一个样本进行预测\n",
    "    Args:\n",
    "        _tree: 字典类型的决策树\n",
    "        row: 一个样本\n",
    "    Return:\n",
    "        该样本的预测标签\n",
    "    \"\"\"\n",
    "    if type(_tree).__name__ == 'dict':\n",
    "        k = list(_tree.keys())[0]\n",
    "        return predict(_tree[k][row[k]], row)\n",
    "    else:\n",
    "        return _tree\n",
    "\n",
    "def accuracy(_tree, _X_test, _y_test):\n",
    "    \"\"\" 计算测试集的精度\n",
    "    Args:\n",
    "        _tree: 字典类型的决策树\n",
    "        _X_test: 测试集的属性值\n",
    "        _y_test: 测试集的真实标签\n",
    "    Return:\n",
    "        决策树在测试集上的精度\n",
    "    \"\"\"\n",
    "    _true = _false = 0\n",
    "    for index, row in _X_test.iterrows():\n",
    "        if _y_test.loc[index, :][0] == predict(_tree, row):\n",
    "            _true += 1\n",
    "        else:\n",
    "            _false += 1\n",
    "            \n",
    "    return _true / (_true + _false)\n",
    "    \n",
    "accuracy(t, X_test, y_test)"
   ]
  },
  {
   "cell_type": "markdown",
   "metadata": {},
   "source": [
    "### 预剪枝\n",
    "\n",
    "预剪枝是指在决策树生成过程中，对每个结点在划分前先进行估计，若当前结点的划分不能带来决策树泛化性能提升，则停止划分并将当前结点标记为叶结点。\n",
    "\n",
    "下面的代码在算验证集精度的时候与周志华老师的示例略微不一样，他的算法是每次都算整个验证集的精度，我这里只回算会走到当前结点的样本的精度。"
   ]
  },
  {
   "cell_type": "code",
   "execution_count": 148,
   "metadata": {
    "collapsed": false
   },
   "outputs": [
    {
     "name": "stdout",
     "output_type": "stream",
     "text": [
      "t1 是\n",
      "t2 {'脐部': {'稍凹': '是', '平坦': '否', '凹陷': '是'}}\n",
      "ac1 0.42857142857142855\n",
      "ac2 0.7142857142857143\n",
      "t1 是\n",
      "t2 {'根蒂': {'蜷缩': '否', '稍蜷': '是'}}\n",
      "ac1 0.5\n",
      "ac2 0.5\n",
      "t1 是\n",
      "t2 {'色泽': {'青绿': '是', '浅白': '否', '乌黑': '是'}}\n",
      "ac1 0.6666666666666666\n",
      "ac2 0.3333333333333333\n",
      "{'脐部': {'稍凹': '是', '平坦': '否', '凹陷': '是'}}\n"
     ]
    },
    {
     "data": {
      "image/png": "[encoded data removed]",
      "text/plain": [
       "<matplotlib.figure.Figure at 0x109b8b6d8>"
      ]
     },
     "metadata": {},
     "output_type": "display_data"
    }
   ],
   "source": [
    "def create_tree2(d, l, dt, lt):\n",
    "    \"\"\" 创建预剪枝决策树\n",
    "    Args:\n",
    "        d: 数据集，pandas.DataFrame格式，不包含标签\n",
    "        l: 数据集对应的标签\n",
    "    Return:\n",
    "        字典格式的决策树\n",
    "    \"\"\"\n",
    "    # 类别完全相同时停止划分\n",
    "    if len(l.iloc[:, 0].value_counts()) == 1:\n",
    "        return l.iloc[:, 0].iloc[0]\n",
    "    # 没有特征可以用了，选择数量多的标签\n",
    "    if len(d.columns) == 0:\n",
    "        return l.iloc[:, 0].value_counts().idxmax()\n",
    "            \n",
    "    max_a = max_gain(d, l) # 选择特征\n",
    "    \n",
    "    # t1表示该结点不划分，直接根据好坏比例确定结果\n",
    "    t1 = l.iloc[:, 0].value_counts().idxmax()\n",
    "    print(\"t1\", t1)\n",
    "    \n",
    "    # t2表示该结点划分后得到的树\n",
    "    t2 = {max_a: {}}\n",
    "    for aa in set(d[max_a]):\n",
    "        t2[max_a][aa] = l.loc[d[max_a]==aa, :].iloc[:, 0].value_counts().idxmax()\n",
    "    print(\"t2\", t2)\n",
    "    \n",
    "    ac1 = accuracy(t1, dt, lt)\n",
    "    ac2 = accuracy(t2, dt, lt)\n",
    "    print('ac1', accuracy(t1, dt, lt))\n",
    "    print('ac2', accuracy(t2, dt, lt))\n",
    "\n",
    "    if ac1 >= ac2:\n",
    "        return t1\n",
    "    else:\n",
    "        myTree = {max_a: {}}\n",
    "        for aa in set(d[max_a]):\n",
    "            myTree[max_a][aa] = create_tree2(\n",
    "                    d.loc[d[max_a]==aa, :].drop(max_a, axis=1), \n",
    "                    l.loc[d[max_a]==aa, :],\n",
    "                    dt.loc[dt[max_a]==aa, :].drop(max_a, axis=1), \n",
    "                    lt.loc[dt[max_a]==aa, :]\n",
    "                )\n",
    "    \n",
    "    return myTree\n",
    "\n",
    "t_pre = create_tree2(X_train, y_train, X_test, y_test)\n",
    "print(t_pre)\n",
    "createPlot(t_pre)"
   ]
  },
  {
   "cell_type": "markdown",
   "metadata": {},
   "source": [
    "相对于不剪枝的决策树，预剪枝的效果还是有提升的："
   ]
  },
  {
   "cell_type": "code",
   "execution_count": 95,
   "metadata": {
    "collapsed": false
   },
   "outputs": [
    {
     "data": {
      "text/plain": [
       "0.7142857142857143"
      ]
     },
     "execution_count": 95,
     "metadata": {},
     "output_type": "execute_result"
    }
   ],
   "source": [
    "accuracy(t_pre, X_test, y_test)"
   ]
  },
  {
   "cell_type": "markdown",
   "metadata": {},
   "source": [
    "可以看到预剪枝使得决策树的很多分支都没有“展开”，这不仅降低了过拟合的风险，还显著减少了决策树的训练时间开销和预测时间开销。\n",
    "\n",
    "但另一方面，有些分支的当前划分虽不能提升泛化性能、甚至可能导致泛化性能暂时下降，但在其基础上进行的后续划分却有可能导致性能显著提高；预剪枝基于“贪心”本质禁止这些分支展开，给预剪枝带来了**欠拟合的风险**。"
   ]
  },
  {
   "cell_type": "markdown",
   "metadata": {},
   "source": [
    "### 后剪枝\n",
    "\n"
   ]
  },
  {
   "cell_type": "code",
   "execution_count": 156,
   "metadata": {
    "collapsed": false
   },
   "outputs": [
    {
     "name": "stdout",
     "output_type": "stream",
     "text": [
      "{'纹理': {'清晰': '否', '稍糊': '是'}}\n"
     ]
    },
    {
     "data": {
      "text/html": [
       "<div>\n",
       "<style>\n",
       "    .dataframe thead tr:only-child th {\n",
       "        text-align: right;\n",
       "    }\n",
       "\n",
       "    .dataframe thead th {\n",
       "        text-align: left;\n",
       "    }\n",
       "\n",
       "    .dataframe tbody tr th {\n",
       "        vertical-align: top;\n",
       "    }\n",
       "</style>\n",
       "<table border=\"1\" class=\"dataframe\">\n",
       "  <thead>\n",
       "    <tr style=\"text-align: right;\">\n",
       "      <th></th>\n",
       "      <th>敲声</th>\n",
       "      <th>纹理</th>\n",
       "      <th>触感</th>\n",
       "      <th>好瓜</th>\n",
       "    </tr>\n",
       "  </thead>\n",
       "  <tbody>\n",
       "    <tr>\n",
       "      <th>7</th>\n",
       "      <td>浊响</td>\n",
       "      <td>清晰</td>\n",
       "      <td>硬滑</td>\n",
       "      <td>是</td>\n",
       "    </tr>\n",
       "    <tr>\n",
       "      <th>8</th>\n",
       "      <td>沉闷</td>\n",
       "      <td>稍糊</td>\n",
       "      <td>硬滑</td>\n",
       "      <td>否</td>\n",
       "    </tr>\n",
       "  </tbody>\n",
       "</table>\n",
       "</div>"
      ],
      "text/plain": [
       "   敲声  纹理  触感 好瓜\n",
       "7  浊响  清晰  硬滑  是\n",
       "8  沉闷  稍糊  硬滑  否"
      ]
     },
     "metadata": {},
     "output_type": "display_data"
    },
    {
     "name": "stdout",
     "output_type": "stream",
     "text": [
      "accuracy without pruning: 0.00, accuracy with postpruning: 0.50\n",
      "{'色泽': {'青绿': '是', '浅白': '否', '乌黑': '是'}}\n"
     ]
    },
    {
     "data": {
      "text/html": [
       "<div>\n",
       "<style>\n",
       "    .dataframe thead tr:only-child th {\n",
       "        text-align: right;\n",
       "    }\n",
       "\n",
       "    .dataframe thead th {\n",
       "        text-align: left;\n",
       "    }\n",
       "\n",
       "    .dataframe tbody tr th {\n",
       "        vertical-align: top;\n",
       "    }\n",
       "</style>\n",
       "<table border=\"1\" class=\"dataframe\">\n",
       "  <thead>\n",
       "    <tr style=\"text-align: right;\">\n",
       "      <th></th>\n",
       "      <th>色泽</th>\n",
       "      <th>根蒂</th>\n",
       "      <th>敲声</th>\n",
       "      <th>纹理</th>\n",
       "      <th>触感</th>\n",
       "      <th>好瓜</th>\n",
       "    </tr>\n",
       "  </thead>\n",
       "  <tbody>\n",
       "    <tr>\n",
       "      <th>3</th>\n",
       "      <td>青绿</td>\n",
       "      <td>蜷缩</td>\n",
       "      <td>沉闷</td>\n",
       "      <td>清晰</td>\n",
       "      <td>硬滑</td>\n",
       "      <td>是</td>\n",
       "    </tr>\n",
       "    <tr>\n",
       "      <th>4</th>\n",
       "      <td>浅白</td>\n",
       "      <td>蜷缩</td>\n",
       "      <td>浊响</td>\n",
       "      <td>清晰</td>\n",
       "      <td>硬滑</td>\n",
       "      <td>是</td>\n",
       "    </tr>\n",
       "    <tr>\n",
       "      <th>12</th>\n",
       "      <td>青绿</td>\n",
       "      <td>稍蜷</td>\n",
       "      <td>浊响</td>\n",
       "      <td>稍糊</td>\n",
       "      <td>硬滑</td>\n",
       "      <td>否</td>\n",
       "    </tr>\n",
       "  </tbody>\n",
       "</table>\n",
       "</div>"
      ],
      "text/plain": [
       "    色泽  根蒂  敲声  纹理  触感 好瓜\n",
       "3   青绿  蜷缩  沉闷  清晰  硬滑  是\n",
       "4   浅白  蜷缩  浊响  清晰  硬滑  是\n",
       "12  青绿  稍蜷  浊响  稍糊  硬滑  否"
      ]
     },
     "metadata": {},
     "output_type": "display_data"
    },
    {
     "name": "stdout",
     "output_type": "stream",
     "text": [
      "accuracy without pruning: 0.33, accuracy with postpruning: 0.67\n"
     ]
    },
    {
     "data": {
      "image/png": "[encoded data removed]",
      "text/plain": [
       "<matplotlib.figure.Figure at 0x10a09a588>"
      ]
     },
     "metadata": {},
     "output_type": "display_data"
    }
   ],
   "source": [
    "def post_pruning(_tree, dt, lt):\n",
    "    a = list(_tree.keys())[0]\n",
    "    \n",
    "    all_leaf = True\n",
    "    for aa in list(_tree[a].keys()):\n",
    "        if type(_tree[a][aa]).__name__ == 'dict':\n",
    "            all_leaf = False\n",
    "            _tree[a][aa] = post_pruning(_tree[a][aa], dt.loc[dt[a]==aa, :].drop(a, axis=1), lt.loc[dt[a]==aa, :])\n",
    "            \n",
    "    if all_leaf:\n",
    "        print(_tree)\n",
    "        display(dt.join(lt))\n",
    "        a2 = accuracy(_tree, dt, lt)\n",
    "        a1 = accuracy(lt.iloc[:, 0].value_counts().idxmax(), dt, lt)\n",
    "        print(\"accuracy without pruning: %.2f, accuracy with postpruning: %.2f\" % (a2, a1))\n",
    "        if a1 > a2:\n",
    "            _tree = lt.iloc[:, 0].value_counts().idxmax()\n",
    "        \n",
    "    return _tree\n",
    "\n",
    "t_post = post_pruning(t, X_test, y_test)\n",
    "createPlot(t_post)"
   ]
  },
  {
   "cell_type": "code",
   "execution_count": 157,
   "metadata": {
    "collapsed": false
   },
   "outputs": [
    {
     "name": "stdout",
     "output_type": "stream",
     "text": [
      "{'色泽': {'青绿': '是', '乌黑': '是'}}\n"
     ]
    },
    {
     "data": {
      "text/html": [
       "<div>\n",
       "<style>\n",
       "    .dataframe thead tr:only-child th {\n",
       "        text-align: right;\n",
       "    }\n",
       "\n",
       "    .dataframe thead th {\n",
       "        text-align: left;\n",
       "    }\n",
       "\n",
       "    .dataframe tbody tr th {\n",
       "        vertical-align: top;\n",
       "    }\n",
       "</style>\n",
       "<table border=\"1\" class=\"dataframe\">\n",
       "  <thead>\n",
       "    <tr style=\"text-align: right;\">\n",
       "      <th></th>\n",
       "      <th>色泽</th>\n",
       "      <th>敲声</th>\n",
       "      <th>纹理</th>\n",
       "      <th>触感</th>\n",
       "      <th>好瓜</th>\n",
       "    </tr>\n",
       "  </thead>\n",
       "  <tbody>\n",
       "    <tr>\n",
       "      <th>7</th>\n",
       "      <td>乌黑</td>\n",
       "      <td>浊响</td>\n",
       "      <td>清晰</td>\n",
       "      <td>硬滑</td>\n",
       "      <td>是</td>\n",
       "    </tr>\n",
       "    <tr>\n",
       "      <th>8</th>\n",
       "      <td>乌黑</td>\n",
       "      <td>沉闷</td>\n",
       "      <td>稍糊</td>\n",
       "      <td>硬滑</td>\n",
       "      <td>否</td>\n",
       "    </tr>\n",
       "  </tbody>\n",
       "</table>\n",
       "</div>"
      ],
      "text/plain": [
       "   色泽  敲声  纹理  触感 好瓜\n",
       "7  乌黑  浊响  清晰  硬滑  是\n",
       "8  乌黑  沉闷  稍糊  硬滑  否"
      ]
     },
     "metadata": {},
     "output_type": "display_data"
    },
    {
     "name": "stdout",
     "output_type": "stream",
     "text": [
      "accuracy without pruning: 0.50, accuracy with postpruning: 0.50\n"
     ]
    },
    {
     "data": {
      "image/png": "[encoded data removed]",
      "text/plain": [
       "<matplotlib.figure.Figure at 0x10a5e2be0>"
      ]
     },
     "metadata": {},
     "output_type": "display_data"
    }
   ],
   "source": [
    "t_post2 = post_pruning(t_post, X_test, y_test)\n",
    "createPlot(t_post2)"
   ]
  }
 ],
 "metadata": {
  "kernelspec": {
   "display_name": "Python 3",
   "language": "python",
   "name": "python3"
  },
  "language_info": {
   "codemirror_mode": {
    "name": "ipython",
    "version": 3
   },
   "file_extension": ".py",
   "mimetype": "text/x-python",
   "name": "python",
   "nbconvert_exporter": "python",
   "pygments_lexer": "ipython3",
   "version": "3.5.1"
  }
 },
 "nbformat": 4,
 "nbformat_minor": 0
}
