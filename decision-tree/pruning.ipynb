{
 "cells": [
  {
   "cell_type": "markdown",
   "metadata": {},
   "source": [
    "# 剪枝\n",
    "\n",
    "剪枝（pruning）是决策树学习算法对付“过拟合”的主要手段。主动去掉一些分支，防止决策树把训练集自身的特点当作所有数据都具有的一般性质。\n",
    "\n",
    "决策树剪枝的基本策略有“预剪枝”（prepruning）和“后剪枝”（postpruning）。预剪枝是指在决策树生成过程中，对每个结点在划分前先进行估计，若当前结点的划分不能带来决策树泛化性能提升，则停止划分并将当前结点标记为叶结点；后剪枝是先从训练集生成一颗完整的决策树，然后自底向上地对非叶结点进行考察，若将改结点对应的子树替换为叶结点能带来决策树泛化性能提升，则将该子树替换为叶结点。\n",
    "\n",
    "预剪枝训练时间短，但有欠拟合的风险。\n",
    "后剪枝泛化性能往往优于预剪枝，但训练时间开销比未剪枝决策树和预剪枝决策树都要大得多。"
   ]
  },
  {
   "cell_type": "code",
   "execution_count": null,
   "metadata": {
    "collapsed": true
   },
   "outputs": [],
   "source": []
  }
 ],
 "metadata": {
  "kernelspec": {
   "display_name": "Python 3",
   "language": "python",
   "name": "python3"
  },
  "language_info": {
   "codemirror_mode": {
    "name": "ipython",
    "version": 3
   },
   "file_extension": ".py",
   "mimetype": "text/x-python",
   "name": "python",
   "nbconvert_exporter": "python",
   "pygments_lexer": "ipython3",
   "version": "3.5.1"
  }
 },
 "nbformat": 4,
 "nbformat_minor": 0
}
